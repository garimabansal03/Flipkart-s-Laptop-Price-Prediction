{
 "cells": [
  {
   "cell_type": "code",
   "execution_count": null,
   "id": "9e8a3a7f",
   "metadata": {},
   "outputs": [],
   "source": [
    "from bs4 import BeautifulSoup as bs\n",
    "import requests\n",
    "import pandas as pd"
   ]
  },
  {
   "cell_type": "code",
   "execution_count": 2,
   "id": "ec621227",
   "metadata": {},
   "outputs": [],
   "source": [
    "url=\"https://www.flipkart.com/search?q=laptop&otracker=search&otracker1=search&marketplace=FLIPKART&as-show=off&as=off\"\n",
    "HEADERS=({'User-Agent':'Mozilla/5.0 (Windows NT 10.0; Win64; x64) AppleWebKit/537.36 (KHTML, like Gecko) Chrome/116.0.0.0 Safari/537.36','Accept_Language':'en-US, en;q=0.5'})\n",
    "webpage=requests.get(url,headers=HEADERS)"
   ]
  },
  {
   "cell_type": "code",
   "execution_count": 3,
   "id": "0c332711",
   "metadata": {},
   "outputs": [
    {
     "data": {
      "text/plain": [
       "<Response [500]>"
      ]
     },
     "execution_count": 3,
     "metadata": {},
     "output_type": "execute_result"
    }
   ],
   "source": [
    "webpage"
   ]
  },
  {
   "cell_type": "code",
   "execution_count": 4,
   "id": "642cb409",
   "metadata": {},
   "outputs": [
    {
     "data": {
      "text/plain": [
       "bytes"
      ]
     },
     "execution_count": 4,
     "metadata": {},
     "output_type": "execute_result"
    }
   ],
   "source": [
    "type(webpage.content)"
   ]
  },
  {
   "cell_type": "code",
   "execution_count": 5,
   "id": "cf4d90e0",
   "metadata": {},
   "outputs": [],
   "source": [
    "soup=bs(webpage.content,'html.parser')"
   ]
  },
  {
   "cell_type": "code",
   "execution_count": 6,
   "id": "38e9a313",
   "metadata": {},
   "outputs": [
    {
     "data": {
      "text/plain": [
       "bs4.BeautifulSoup"
      ]
     },
     "execution_count": 6,
     "metadata": {},
     "output_type": "execute_result"
    }
   ],
   "source": [
    "type(soup)"
   ]
  },
  {
   "cell_type": "code",
   "execution_count": null,
   "id": "34922f01",
   "metadata": {},
   "outputs": [],
   "source": [
    "links_list=[]\n",
    "\n",
    "for i in range(1,42):\n",
    "    url='https://www.flipkart.com/search?q=laptop&otracker=search&otracker1=search&marketplace=FLIPKART&as-show=off&as=off&page='+str(i)\n",
    "    webpage=requests.get(url,headers=HEADERS)\n",
    "    soup=bs(webpage.content,'html.parser')\n",
    "    \n",
    "    links=soup.findAll(\"a\",attrs={'class':'_1fQZEK'})\n",
    "    \n",
    "    for i in links:\n",
    "        links_list.append(i.get('href'))\n",
    "    \n",
    "    "
   ]
  },
  {
   "cell_type": "code",
   "execution_count": null,
   "id": "d0e3ec9f",
   "metadata": {},
   "outputs": [],
   "source": [
    "len(links_list)"
   ]
  },
  {
   "cell_type": "code",
   "execution_count": null,
   "id": "c06536ca",
   "metadata": {},
   "outputs": [],
   "source": [
    "product=[]\n",
    "price=[]\n",
    "spec=[]\n",
    "\n",
    "\n",
    "for i in links_list:\n",
    "    new_webpage=requests.get('https://www.flipkart.com'+ i ,headers=HEADERS)\n",
    "    new_soup=bs(new_webpage.content,'html.parser')\n",
    "    \n",
    "    \n",
    "    product.append(new_soup.find('span',{'class':'B_NuCI'}).text)\n",
    "    price.append(new_soup.find('div',{'class':'_30jeq3 _16Jk6d'}).text.replace(',','').replace('₹',''))\n",
    "    \n",
    "    \n",
    "    info=new_soup.findAll('li',{'class':'_21lJbe'})\n",
    "    data=' '\n",
    "    for j in range(0,len(info)):\n",
    "        data=data+\"&\"+info[j].text  \n",
    "    spec.append(data)\n"
   ]
  },
  {
   "cell_type": "code",
   "execution_count": null,
   "id": "5deb779a",
   "metadata": {},
   "outputs": [],
   "source": [
    "data = {'Product': product,\n",
    "         'Price': price,\n",
    "         'specifications': spec}\n",
    "\n",
    "df = pd.DataFrame.from_dict(data)\n",
    "\n",
    "df.to_csv('out.csv')"
   ]
  },
  {
   "cell_type": "code",
   "execution_count": null,
   "id": "b14ff588",
   "metadata": {},
   "outputs": [],
   "source": []
  }
 ],
 "metadata": {
  "kernelspec": {
   "display_name": "Python 3 (ipykernel)",
   "language": "python",
   "name": "python3"
  },
  "language_info": {
   "codemirror_mode": {
    "name": "ipython",
    "version": 3
   },
   "file_extension": ".py",
   "mimetype": "text/x-python",
   "name": "python",
   "nbconvert_exporter": "python",
   "pygments_lexer": "ipython3",
   "version": "3.10.9"
  }
 },
 "nbformat": 4,
 "nbformat_minor": 5
}
