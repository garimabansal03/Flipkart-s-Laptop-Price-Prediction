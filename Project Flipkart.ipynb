{
 "cells": [
  {
   "cell_type": "code",
   "execution_count": 1,
   "id": "11b49f43",
   "metadata": {},
   "outputs": [],
   "source": [
    "import numpy as np\n",
    "import pandas as pd"
   ]
  },
  {
   "cell_type": "code",
   "execution_count": 2,
   "id": "a1cf475b",
   "metadata": {},
   "outputs": [],
   "source": [
    "data=pd.read_csv(\"laptops.csv\")"
   ]
  },
  {
   "cell_type": "code",
   "execution_count": 3,
   "id": "f037f1de",
   "metadata": {},
   "outputs": [
    {
     "data": {
      "text/html": [
       "<div>\n",
       "<style scoped>\n",
       "    .dataframe tbody tr th:only-of-type {\n",
       "        vertical-align: middle;\n",
       "    }\n",
       "\n",
       "    .dataframe tbody tr th {\n",
       "        vertical-align: top;\n",
       "    }\n",
       "\n",
       "    .dataframe thead th {\n",
       "        text-align: right;\n",
       "    }\n",
       "</style>\n",
       "<table border=\"1\" class=\"dataframe\">\n",
       "  <thead>\n",
       "    <tr style=\"text-align: right;\">\n",
       "      <th></th>\n",
       "      <th>Company</th>\n",
       "      <th>Type</th>\n",
       "      <th>Inches</th>\n",
       "      <th>RAM</th>\n",
       "      <th>Processor Name</th>\n",
       "      <th>Osys</th>\n",
       "      <th>MEMORY</th>\n",
       "      <th>TouchScreen</th>\n",
       "      <th>Graphic Card</th>\n",
       "      <th>KGs</th>\n",
       "      <th>X_RES</th>\n",
       "      <th>Y_RES</th>\n",
       "      <th>Price</th>\n",
       "    </tr>\n",
       "  </thead>\n",
       "  <tbody>\n",
       "    <tr>\n",
       "      <th>0</th>\n",
       "      <td>ASUS</td>\n",
       "      <td>Thin and Light Laptop</td>\n",
       "      <td>15.6 Inch</td>\n",
       "      <td>8 GB</td>\n",
       "      <td>Intel Core i3 11th Gen</td>\n",
       "      <td>Windows 11</td>\n",
       "      <td>256 GB SSD</td>\n",
       "      <td>No</td>\n",
       "      <td>No</td>\n",
       "      <td>1.80</td>\n",
       "      <td>1920.0</td>\n",
       "      <td>1080.0</td>\n",
       "      <td>34990</td>\n",
       "    </tr>\n",
       "    <tr>\n",
       "      <th>1</th>\n",
       "      <td>Avita</td>\n",
       "      <td>Laptop</td>\n",
       "      <td>14.1 Inch</td>\n",
       "      <td>4 GB</td>\n",
       "      <td>Intel Celeron Dual Core</td>\n",
       "      <td>Windows 11</td>\n",
       "      <td>128 GB SSD</td>\n",
       "      <td>No</td>\n",
       "      <td>No</td>\n",
       "      <td>NaN</td>\n",
       "      <td>1920.0</td>\n",
       "      <td>1080.0</td>\n",
       "      <td>16490</td>\n",
       "    </tr>\n",
       "    <tr>\n",
       "      <th>2</th>\n",
       "      <td>DELL</td>\n",
       "      <td>Thin and Light Laptop</td>\n",
       "      <td>38 cm</td>\n",
       "      <td>8 GB</td>\n",
       "      <td>Intel Core i3 11th Gen</td>\n",
       "      <td>Windows 11</td>\n",
       "      <td>512 GB SSD</td>\n",
       "      <td>No</td>\n",
       "      <td>No</td>\n",
       "      <td>1.80</td>\n",
       "      <td>1920.0</td>\n",
       "      <td>1080.0</td>\n",
       "      <td>35990</td>\n",
       "    </tr>\n",
       "    <tr>\n",
       "      <th>3</th>\n",
       "      <td>Lenovo</td>\n",
       "      <td>Thin and Light Laptop</td>\n",
       "      <td>36.62 cm</td>\n",
       "      <td>8 GB</td>\n",
       "      <td>AMD Ryzen 5 Hexa Core</td>\n",
       "      <td>Windows 11</td>\n",
       "      <td>512 GB SSD</td>\n",
       "      <td>No</td>\n",
       "      <td>No</td>\n",
       "      <td>1.65</td>\n",
       "      <td>1920.0</td>\n",
       "      <td>1080.0</td>\n",
       "      <td>48450</td>\n",
       "    </tr>\n",
       "    <tr>\n",
       "      <th>4</th>\n",
       "      <td>HP</td>\n",
       "      <td>Thin and Light Laptop</td>\n",
       "      <td>15.6 Inch</td>\n",
       "      <td>8 GB</td>\n",
       "      <td>Intel Core i3 11th Gen</td>\n",
       "      <td>Windows 11</td>\n",
       "      <td>512 GB SSD</td>\n",
       "      <td>No</td>\n",
       "      <td>No</td>\n",
       "      <td>1.69</td>\n",
       "      <td>1920.0</td>\n",
       "      <td>1080.0</td>\n",
       "      <td>38990</td>\n",
       "    </tr>\n",
       "  </tbody>\n",
       "</table>\n",
       "</div>"
      ],
      "text/plain": [
       "  Company                   Type     Inches   RAM           Processor Name  \\\n",
       "0    ASUS  Thin and Light Laptop  15.6 Inch  8 GB   Intel Core i3 11th Gen   \n",
       "1   Avita                 Laptop  14.1 Inch  4 GB  Intel Celeron Dual Core   \n",
       "2    DELL  Thin and Light Laptop      38 cm  8 GB   Intel Core i3 11th Gen   \n",
       "3  Lenovo  Thin and Light Laptop   36.62 cm  8 GB    AMD Ryzen 5 Hexa Core   \n",
       "4      HP  Thin and Light Laptop  15.6 Inch  8 GB   Intel Core i3 11th Gen   \n",
       "\n",
       "          Osys      MEMORY TouchScreen Graphic Card   KGs   X_RES   Y_RES  \\\n",
       "0  Windows 11   256 GB SSD          No           No  1.80  1920.0  1080.0   \n",
       "1  Windows 11   128 GB SSD          No           No   NaN  1920.0  1080.0   \n",
       "2  Windows 11   512 GB SSD          No           No  1.80  1920.0  1080.0   \n",
       "3  Windows 11   512 GB SSD          No           No  1.65  1920.0  1080.0   \n",
       "4  Windows 11   512 GB SSD          No           No  1.69  1920.0  1080.0   \n",
       "\n",
       "   Price  \n",
       "0  34990  \n",
       "1  16490  \n",
       "2  35990  \n",
       "3  48450  \n",
       "4  38990  "
      ]
     },
     "execution_count": 3,
     "metadata": {},
     "output_type": "execute_result"
    }
   ],
   "source": [
    "data.head()"
   ]
  },
  {
   "cell_type": "code",
   "execution_count": 4,
   "id": "68c63b14",
   "metadata": {},
   "outputs": [
    {
     "data": {
      "text/plain": [
       "(984, 13)"
      ]
     },
     "execution_count": 4,
     "metadata": {},
     "output_type": "execute_result"
    }
   ],
   "source": [
    "data.shape"
   ]
  },
  {
   "cell_type": "code",
   "execution_count": 5,
   "id": "5e608479",
   "metadata": {},
   "outputs": [
    {
     "name": "stdout",
     "output_type": "stream",
     "text": [
      "<class 'pandas.core.frame.DataFrame'>\n",
      "RangeIndex: 984 entries, 0 to 983\n",
      "Data columns (total 13 columns):\n",
      " #   Column          Non-Null Count  Dtype  \n",
      "---  ------          --------------  -----  \n",
      " 0   Company         984 non-null    object \n",
      " 1   Type            984 non-null    object \n",
      " 2   Inches          984 non-null    object \n",
      " 3   RAM             984 non-null    object \n",
      " 4   Processor Name  984 non-null    object \n",
      " 5   Osys            984 non-null    object \n",
      " 6   MEMORY          984 non-null    object \n",
      " 7   TouchScreen     984 non-null    object \n",
      " 8   Graphic Card    984 non-null    object \n",
      " 9   KGs             830 non-null    float64\n",
      " 10  X_RES           928 non-null    float64\n",
      " 11  Y_RES           928 non-null    float64\n",
      " 12  Price           984 non-null    int64  \n",
      "dtypes: float64(3), int64(1), object(9)\n",
      "memory usage: 100.1+ KB\n"
     ]
    }
   ],
   "source": [
    "data.info() #information about DataFrame."
   ]
  },
  {
   "cell_type": "code",
   "execution_count": 6,
   "id": "c451463a",
   "metadata": {},
   "outputs": [
    {
     "data": {
      "text/plain": [
       "433"
      ]
     },
     "execution_count": 6,
     "metadata": {},
     "output_type": "execute_result"
    }
   ],
   "source": [
    "data.duplicated().sum()"
   ]
  },
  {
   "cell_type": "code",
   "execution_count": 7,
   "id": "a0e737df",
   "metadata": {},
   "outputs": [],
   "source": [
    "data.drop_duplicates(inplace=True) #dropping duplicate entries."
   ]
  },
  {
   "cell_type": "code",
   "execution_count": 8,
   "id": "468bc313",
   "metadata": {},
   "outputs": [
    {
     "data": {
      "text/plain": [
       "(551, 13)"
      ]
     },
     "execution_count": 8,
     "metadata": {},
     "output_type": "execute_result"
    }
   ],
   "source": [
    "data.shape"
   ]
  },
  {
   "cell_type": "code",
   "execution_count": 9,
   "id": "6ebc1d19",
   "metadata": {},
   "outputs": [
    {
     "data": {
      "text/plain": [
       "0"
      ]
     },
     "execution_count": 9,
     "metadata": {},
     "output_type": "execute_result"
    }
   ],
   "source": [
    "data.duplicated().sum() #rechecking number of duplicate entries if any.\""
   ]
  },
  {
   "cell_type": "code",
   "execution_count": 10,
   "id": "691136fd",
   "metadata": {},
   "outputs": [
    {
     "data": {
      "text/plain": [
       "Company            0\n",
       "Type               0\n",
       "Inches             0\n",
       "RAM                0\n",
       "Processor Name     0\n",
       "Osys               0\n",
       "MEMORY             0\n",
       "TouchScreen        0\n",
       "Graphic Card       0\n",
       "KGs               47\n",
       "X_RES             39\n",
       "Y_RES             39\n",
       "Price              0\n",
       "dtype: int64"
      ]
     },
     "execution_count": 10,
     "metadata": {},
     "output_type": "execute_result"
    }
   ],
   "source": [
    "data.isnull().sum()"
   ]
  },
  {
   "cell_type": "code",
   "execution_count": 11,
   "id": "8b16a3c4",
   "metadata": {},
   "outputs": [],
   "source": [
    "df = data.dropna(subset=['KGs'])"
   ]
  },
  {
   "cell_type": "code",
   "execution_count": 12,
   "id": "f477e873",
   "metadata": {},
   "outputs": [
    {
     "data": {
      "text/plain": [
       "Company            0\n",
       "Type               0\n",
       "Inches             0\n",
       "RAM                0\n",
       "Processor Name     0\n",
       "Osys               0\n",
       "MEMORY             0\n",
       "TouchScreen        0\n",
       "Graphic Card       0\n",
       "KGs                0\n",
       "X_RES             21\n",
       "Y_RES             21\n",
       "Price              0\n",
       "dtype: int64"
      ]
     },
     "execution_count": 12,
     "metadata": {},
     "output_type": "execute_result"
    }
   ],
   "source": [
    "df.isnull().sum()"
   ]
  },
  {
   "cell_type": "code",
   "execution_count": 13,
   "id": "a38d31f2",
   "metadata": {},
   "outputs": [],
   "source": [
    "df = df.dropna(subset=['X_RES'])\n",
    "df = df.dropna(subset=['Y_RES'])"
   ]
  },
  {
   "cell_type": "code",
   "execution_count": 14,
   "id": "9066600a",
   "metadata": {},
   "outputs": [
    {
     "data": {
      "text/plain": [
       "Company           0\n",
       "Type              0\n",
       "Inches            0\n",
       "RAM               0\n",
       "Processor Name    0\n",
       "Osys              0\n",
       "MEMORY            0\n",
       "TouchScreen       0\n",
       "Graphic Card      0\n",
       "KGs               0\n",
       "X_RES             0\n",
       "Y_RES             0\n",
       "Price             0\n",
       "dtype: int64"
      ]
     },
     "execution_count": 14,
     "metadata": {},
     "output_type": "execute_result"
    }
   ],
   "source": [
    "df.isnull().sum()"
   ]
  },
  {
   "cell_type": "code",
   "execution_count": 15,
   "id": "5a4f96ff",
   "metadata": {},
   "outputs": [
    {
     "data": {
      "text/plain": [
       "(483, 13)"
      ]
     },
     "execution_count": 15,
     "metadata": {},
     "output_type": "execute_result"
    }
   ],
   "source": [
    "df.shape"
   ]
  },
  {
   "cell_type": "code",
   "execution_count": 16,
   "id": "16551b7f",
   "metadata": {},
   "outputs": [
    {
     "data": {
      "text/html": [
       "<div>\n",
       "<style scoped>\n",
       "    .dataframe tbody tr th:only-of-type {\n",
       "        vertical-align: middle;\n",
       "    }\n",
       "\n",
       "    .dataframe tbody tr th {\n",
       "        vertical-align: top;\n",
       "    }\n",
       "\n",
       "    .dataframe thead th {\n",
       "        text-align: right;\n",
       "    }\n",
       "</style>\n",
       "<table border=\"1\" class=\"dataframe\">\n",
       "  <thead>\n",
       "    <tr style=\"text-align: right;\">\n",
       "      <th></th>\n",
       "      <th>Company</th>\n",
       "      <th>Type</th>\n",
       "      <th>Inches</th>\n",
       "      <th>RAM</th>\n",
       "      <th>Processor Name</th>\n",
       "      <th>Osys</th>\n",
       "      <th>MEMORY</th>\n",
       "      <th>TouchScreen</th>\n",
       "      <th>Graphic Card</th>\n",
       "      <th>KGs</th>\n",
       "      <th>X_RES</th>\n",
       "      <th>Y_RES</th>\n",
       "      <th>Price</th>\n",
       "    </tr>\n",
       "  </thead>\n",
       "  <tbody>\n",
       "    <tr>\n",
       "      <th>174</th>\n",
       "      <td>HP</td>\n",
       "      <td>Gaming Laptop</td>\n",
       "      <td>15.6 Inch</td>\n",
       "      <td>16 GB</td>\n",
       "      <td>AMD Ryzen 5 Hexa Core</td>\n",
       "      <td>Windows 11</td>\n",
       "      <td>512 GB SSD</td>\n",
       "      <td>No</td>\n",
       "      <td>Yes</td>\n",
       "      <td>2.37</td>\n",
       "      <td>1920.0</td>\n",
       "      <td>1080.0</td>\n",
       "      <td>65990</td>\n",
       "    </tr>\n",
       "    <tr>\n",
       "      <th>188</th>\n",
       "      <td>DELL</td>\n",
       "      <td>Thin and Light Laptop</td>\n",
       "      <td>38 cm</td>\n",
       "      <td>8 GB</td>\n",
       "      <td>AMD Ryzen 3 Dual Core</td>\n",
       "      <td>Windows 11</td>\n",
       "      <td>256 GB SSD</td>\n",
       "      <td>No</td>\n",
       "      <td>No</td>\n",
       "      <td>1.80</td>\n",
       "      <td>1920.0</td>\n",
       "      <td>1080.0</td>\n",
       "      <td>34790</td>\n",
       "    </tr>\n",
       "    <tr>\n",
       "      <th>942</th>\n",
       "      <td>Acer</td>\n",
       "      <td>Thin and Light Laptop</td>\n",
       "      <td>15.6 inch</td>\n",
       "      <td>8 GB</td>\n",
       "      <td>Intel Core i5 11th Gen</td>\n",
       "      <td>Windows 10</td>\n",
       "      <td>512 GB SSD</td>\n",
       "      <td>No</td>\n",
       "      <td>No</td>\n",
       "      <td>1.65</td>\n",
       "      <td>1920.0</td>\n",
       "      <td>1080.0</td>\n",
       "      <td>47499</td>\n",
       "    </tr>\n",
       "    <tr>\n",
       "      <th>153</th>\n",
       "      <td>HP</td>\n",
       "      <td>Thin and Light Laptop</td>\n",
       "      <td>14 Inch</td>\n",
       "      <td>8 GB</td>\n",
       "      <td>Intel Core i3 12th Gen</td>\n",
       "      <td>Windows 11</td>\n",
       "      <td>512 GB SSD</td>\n",
       "      <td>No</td>\n",
       "      <td>No</td>\n",
       "      <td>1.41</td>\n",
       "      <td>1920.0</td>\n",
       "      <td>1080.0</td>\n",
       "      <td>56490</td>\n",
       "    </tr>\n",
       "    <tr>\n",
       "      <th>762</th>\n",
       "      <td>HP</td>\n",
       "      <td>Thin and Light Laptop</td>\n",
       "      <td>15.6 Inch</td>\n",
       "      <td>8 GB</td>\n",
       "      <td>AMD Ryzen 5 Quad Core</td>\n",
       "      <td>Windows 11</td>\n",
       "      <td>512 GB SSD</td>\n",
       "      <td>No</td>\n",
       "      <td>No</td>\n",
       "      <td>1.75</td>\n",
       "      <td>1920.0</td>\n",
       "      <td>1080.0</td>\n",
       "      <td>49990</td>\n",
       "    </tr>\n",
       "  </tbody>\n",
       "</table>\n",
       "</div>"
      ],
      "text/plain": [
       "    Company                   Type     Inches    RAM          Processor Name  \\\n",
       "174      HP          Gaming Laptop  15.6 Inch  16 GB   AMD Ryzen 5 Hexa Core   \n",
       "188    DELL  Thin and Light Laptop      38 cm   8 GB   AMD Ryzen 3 Dual Core   \n",
       "942    Acer  Thin and Light Laptop  15.6 inch   8 GB  Intel Core i5 11th Gen   \n",
       "153      HP  Thin and Light Laptop    14 Inch   8 GB  Intel Core i3 12th Gen   \n",
       "762      HP  Thin and Light Laptop  15.6 Inch   8 GB   AMD Ryzen 5 Quad Core   \n",
       "\n",
       "            Osys      MEMORY TouchScreen Graphic Card   KGs   X_RES   Y_RES  \\\n",
       "174  Windows 11   512 GB SSD          No          Yes  2.37  1920.0  1080.0   \n",
       "188  Windows 11   256 GB SSD          No           No  1.80  1920.0  1080.0   \n",
       "942   Windows 10  512 GB SSD          No           No  1.65  1920.0  1080.0   \n",
       "153  Windows 11   512 GB SSD          No           No  1.41  1920.0  1080.0   \n",
       "762  Windows 11   512 GB SSD          No           No  1.75  1920.0  1080.0   \n",
       "\n",
       "     Price  \n",
       "174  65990  \n",
       "188  34790  \n",
       "942  47499  \n",
       "153  56490  \n",
       "762  49990  "
      ]
     },
     "execution_count": 16,
     "metadata": {},
     "output_type": "execute_result"
    }
   ],
   "source": [
    "df.sample(5)"
   ]
  },
  {
   "cell_type": "code",
   "execution_count": 17,
   "id": "c85e5018",
   "metadata": {},
   "outputs": [],
   "source": [
    "#DATA PRE-PROCESSING"
   ]
  },
  {
   "cell_type": "code",
   "execution_count": 18,
   "id": "703a69a3",
   "metadata": {},
   "outputs": [],
   "source": [
    "#RAM\n",
    "df['RAM']=df['RAM'].str.replace('GB',\"\")"
   ]
  },
  {
   "cell_type": "code",
   "execution_count": 19,
   "id": "fab8bce2",
   "metadata": {},
   "outputs": [
    {
     "data": {
      "text/plain": [
       "8      241\n",
       "16     198\n",
       "4       25\n",
       "32      19\n",
       "Name: RAM, dtype: int64"
      ]
     },
     "execution_count": 19,
     "metadata": {},
     "output_type": "execute_result"
    }
   ],
   "source": [
    "df['RAM'].value_counts()"
   ]
  },
  {
   "cell_type": "code",
   "execution_count": 20,
   "id": "6bf037bf",
   "metadata": {},
   "outputs": [],
   "source": [
    "df['RAM']=df['RAM'].astype('int64')"
   ]
  },
  {
   "cell_type": "code",
   "execution_count": 21,
   "id": "d611f122",
   "metadata": {},
   "outputs": [],
   "source": [
    "#inch\n",
    "\n",
    "def cm_inch(x):\n",
    "    if(x.find('cm')!=-1):\n",
    "        x= x.split()[0]\n",
    "        x= float(x)\n",
    "        return round(x*0.39,1)\n",
    "    else:\n",
    "        x= x.split()[0]\n",
    "        return round(float(x),1)\n"
   ]
  },
  {
   "cell_type": "code",
   "execution_count": 22,
   "id": "04d496e7",
   "metadata": {},
   "outputs": [],
   "source": [
    "df['Inches']=df['Inches'].apply(cm_inch)"
   ]
  },
  {
   "cell_type": "code",
   "execution_count": 23,
   "id": "c9b723db",
   "metadata": {},
   "outputs": [
    {
     "data": {
      "text/plain": [
       "15.6    257\n",
       "14.0    125\n",
       "16.0     29\n",
       "13.3     18\n",
       "17.3      9\n",
       "14.8      7\n",
       "16.1      6\n",
       "11.6      5\n",
       "13.4      4\n",
       "13.6      3\n",
       "14.1      3\n",
       "15.5      2\n",
       "15.0      2\n",
       "13.9      2\n",
       "13.0      2\n",
       "11.0      1\n",
       "13.5      1\n",
       "7.0       1\n",
       "14.3      1\n",
       "13.2      1\n",
       "16.2      1\n",
       "17.0      1\n",
       "18.0      1\n",
       "15.3      1\n",
       "Name: Inches, dtype: int64"
      ]
     },
     "execution_count": 23,
     "metadata": {},
     "output_type": "execute_result"
    }
   ],
   "source": [
    "df['Inches'].value_counts()"
   ]
  },
  {
   "cell_type": "code",
   "execution_count": 24,
   "id": "e2b8d5f9",
   "metadata": {},
   "outputs": [],
   "source": [
    "df['Inches']=df['Inches'].astype('float64')"
   ]
  },
  {
   "cell_type": "code",
   "execution_count": 25,
   "id": "831ef266",
   "metadata": {},
   "outputs": [],
   "source": [
    "df['TouchScreen'] = df['TouchScreen'].apply(lambda x : 1 if 'Yes' in x else 0)\n",
    "df['Graphic Card'] = df['Graphic Card'].apply(lambda x : 1 if 'Yes' in x else 0)"
   ]
  },
  {
   "cell_type": "code",
   "execution_count": 26,
   "id": "7c1e3433",
   "metadata": {},
   "outputs": [
    {
     "data": {
      "text/html": [
       "<div>\n",
       "<style scoped>\n",
       "    .dataframe tbody tr th:only-of-type {\n",
       "        vertical-align: middle;\n",
       "    }\n",
       "\n",
       "    .dataframe tbody tr th {\n",
       "        vertical-align: top;\n",
       "    }\n",
       "\n",
       "    .dataframe thead th {\n",
       "        text-align: right;\n",
       "    }\n",
       "</style>\n",
       "<table border=\"1\" class=\"dataframe\">\n",
       "  <thead>\n",
       "    <tr style=\"text-align: right;\">\n",
       "      <th></th>\n",
       "      <th>Company</th>\n",
       "      <th>Type</th>\n",
       "      <th>Inches</th>\n",
       "      <th>RAM</th>\n",
       "      <th>Processor Name</th>\n",
       "      <th>Osys</th>\n",
       "      <th>MEMORY</th>\n",
       "      <th>TouchScreen</th>\n",
       "      <th>Graphic Card</th>\n",
       "      <th>KGs</th>\n",
       "      <th>X_RES</th>\n",
       "      <th>Y_RES</th>\n",
       "      <th>Price</th>\n",
       "    </tr>\n",
       "  </thead>\n",
       "  <tbody>\n",
       "    <tr>\n",
       "      <th>0</th>\n",
       "      <td>ASUS</td>\n",
       "      <td>Thin and Light Laptop</td>\n",
       "      <td>15.6</td>\n",
       "      <td>8</td>\n",
       "      <td>Intel Core i3 11th Gen</td>\n",
       "      <td>Windows 11</td>\n",
       "      <td>256 GB SSD</td>\n",
       "      <td>0</td>\n",
       "      <td>0</td>\n",
       "      <td>1.80</td>\n",
       "      <td>1920.0</td>\n",
       "      <td>1080.0</td>\n",
       "      <td>34990</td>\n",
       "    </tr>\n",
       "    <tr>\n",
       "      <th>2</th>\n",
       "      <td>DELL</td>\n",
       "      <td>Thin and Light Laptop</td>\n",
       "      <td>14.8</td>\n",
       "      <td>8</td>\n",
       "      <td>Intel Core i3 11th Gen</td>\n",
       "      <td>Windows 11</td>\n",
       "      <td>512 GB SSD</td>\n",
       "      <td>0</td>\n",
       "      <td>0</td>\n",
       "      <td>1.80</td>\n",
       "      <td>1920.0</td>\n",
       "      <td>1080.0</td>\n",
       "      <td>35990</td>\n",
       "    </tr>\n",
       "    <tr>\n",
       "      <th>3</th>\n",
       "      <td>Lenovo</td>\n",
       "      <td>Thin and Light Laptop</td>\n",
       "      <td>14.3</td>\n",
       "      <td>8</td>\n",
       "      <td>AMD Ryzen 5 Hexa Core</td>\n",
       "      <td>Windows 11</td>\n",
       "      <td>512 GB SSD</td>\n",
       "      <td>0</td>\n",
       "      <td>0</td>\n",
       "      <td>1.65</td>\n",
       "      <td>1920.0</td>\n",
       "      <td>1080.0</td>\n",
       "      <td>48450</td>\n",
       "    </tr>\n",
       "    <tr>\n",
       "      <th>4</th>\n",
       "      <td>HP</td>\n",
       "      <td>Thin and Light Laptop</td>\n",
       "      <td>15.6</td>\n",
       "      <td>8</td>\n",
       "      <td>Intel Core i3 11th Gen</td>\n",
       "      <td>Windows 11</td>\n",
       "      <td>512 GB SSD</td>\n",
       "      <td>0</td>\n",
       "      <td>0</td>\n",
       "      <td>1.69</td>\n",
       "      <td>1920.0</td>\n",
       "      <td>1080.0</td>\n",
       "      <td>38990</td>\n",
       "    </tr>\n",
       "    <tr>\n",
       "      <th>5</th>\n",
       "      <td>HP</td>\n",
       "      <td>Thin and Light Laptop</td>\n",
       "      <td>14.0</td>\n",
       "      <td>8</td>\n",
       "      <td>AMD Ryzen 3 Quad Core</td>\n",
       "      <td>Windows 11</td>\n",
       "      <td>512 GB SSD</td>\n",
       "      <td>0</td>\n",
       "      <td>0</td>\n",
       "      <td>1.46</td>\n",
       "      <td>1920.0</td>\n",
       "      <td>1080.0</td>\n",
       "      <td>37880</td>\n",
       "    </tr>\n",
       "  </tbody>\n",
       "</table>\n",
       "</div>"
      ],
      "text/plain": [
       "  Company                   Type  Inches  RAM          Processor Name  \\\n",
       "0    ASUS  Thin and Light Laptop    15.6    8  Intel Core i3 11th Gen   \n",
       "2    DELL  Thin and Light Laptop    14.8    8  Intel Core i3 11th Gen   \n",
       "3  Lenovo  Thin and Light Laptop    14.3    8   AMD Ryzen 5 Hexa Core   \n",
       "4      HP  Thin and Light Laptop    15.6    8  Intel Core i3 11th Gen   \n",
       "5      HP  Thin and Light Laptop    14.0    8   AMD Ryzen 3 Quad Core   \n",
       "\n",
       "          Osys      MEMORY  TouchScreen  Graphic Card   KGs   X_RES   Y_RES  \\\n",
       "0  Windows 11   256 GB SSD            0             0  1.80  1920.0  1080.0   \n",
       "2  Windows 11   512 GB SSD            0             0  1.80  1920.0  1080.0   \n",
       "3  Windows 11   512 GB SSD            0             0  1.65  1920.0  1080.0   \n",
       "4  Windows 11   512 GB SSD            0             0  1.69  1920.0  1080.0   \n",
       "5  Windows 11   512 GB SSD            0             0  1.46  1920.0  1080.0   \n",
       "\n",
       "   Price  \n",
       "0  34990  \n",
       "2  35990  \n",
       "3  48450  \n",
       "4  38990  \n",
       "5  37880  "
      ]
     },
     "execution_count": 26,
     "metadata": {},
     "output_type": "execute_result"
    }
   ],
   "source": [
    "df.head()"
   ]
  },
  {
   "cell_type": "code",
   "execution_count": 27,
   "id": "98c1f806",
   "metadata": {},
   "outputs": [],
   "source": [
    "import seaborn as sns\n",
    "import matplotlib.pyplot as plt"
   ]
  },
  {
   "cell_type": "code",
   "execution_count": 28,
   "id": "4140a436",
   "metadata": {},
   "outputs": [
    {
     "name": "stderr",
     "output_type": "stream",
     "text": [
      "C:\\Users\\USER\\AppData\\Local\\Temp\\ipykernel_38580\\834922981.py:1: UserWarning: \n",
      "\n",
      "`distplot` is a deprecated function and will be removed in seaborn v0.14.0.\n",
      "\n",
      "Please adapt your code to use either `displot` (a figure-level function with\n",
      "similar flexibility) or `histplot` (an axes-level function for histograms).\n",
      "\n",
      "For a guide to updating your code to use the new functions, please see\n",
      "https://gist.github.com/mwaskom/de44147ed2974457ad6372750bbe5751\n",
      "\n",
      "  sns.distplot(df['Price'])\n"
     ]
    },
    {
     "data": {
      "text/plain": [
       "<Axes: xlabel='Price', ylabel='Density'>"
      ]
     },
     "execution_count": 28,
     "metadata": {},
     "output_type": "execute_result"
    },
    {
     "data": {
      "image/png": "[encoded data removed]",
      "text/plain": [
       "<Figure size 640x480 with 1 Axes>"
      ]
     },
     "metadata": {},
     "output_type": "display_data"
    }
   ],
   "source": [
    "sns.distplot(df['Price'])"
   ]
  },
  {
   "cell_type": "code",
   "execution_count": 29,
   "id": "36428c16",
   "metadata": {},
   "outputs": [],
   "source": [
    "#Price is positively skewed"
   ]
  },
  {
   "cell_type": "code",
   "execution_count": 30,
   "id": "1a058b68",
   "metadata": {},
   "outputs": [
    {
     "data": {
      "text/plain": [
       "<Axes: >"
      ]
     },
     "execution_count": 30,
     "metadata": {},
     "output_type": "execute_result"
    },
    {
     "data": {
      "image/png": "[encoded data removed]",
      "text/plain": [
       "<Figure size 640x480 with 1 Axes>"
      ]
     },
     "metadata": {},
     "output_type": "display_data"
    }
   ],
   "source": [
    "df['Company'].value_counts().plot(kind='bar')"
   ]
  },
  {
   "cell_type": "code",
   "execution_count": 31,
   "id": "b4a1fc70",
   "metadata": {},
   "outputs": [
    {
     "data": {
      "image/png": "[encoded data removed]",
      "text/plain": [
       "<Figure size 640x480 with 1 Axes>"
      ]
     },
     "metadata": {},
     "output_type": "display_data"
    }
   ],
   "source": [
    "sns.barplot(x=df['Company'],y=df['Price'])\n",
    "plt.xticks(rotation='vertical')\n",
    "plt.show()"
   ]
  },
  {
   "cell_type": "code",
   "execution_count": 32,
   "id": "9b84f307",
   "metadata": {},
   "outputs": [
    {
     "data": {
      "text/plain": [
       "Thin and Light Laptop    253\n",
       "Gaming Laptop            108\n",
       "Gaming                    41\n",
       "Laptop                    23\n",
       "2 in 1 Laptop             23\n",
       "Notebook                  12\n",
       "Chromebook                10\n",
       "Business Laptop            6\n",
       "2 in 1 Gaming Laptop       5\n",
       "Handheld Gaming PC         1\n",
       "TUF GAMING A15             1\n",
       "Name: Type, dtype: int64"
      ]
     },
     "execution_count": 32,
     "metadata": {},
     "output_type": "execute_result"
    }
   ],
   "source": [
    "#Type Column\n",
    "df['Type'].value_counts()"
   ]
  },
  {
   "cell_type": "code",
   "execution_count": 33,
   "id": "c8a6cd76",
   "metadata": {},
   "outputs": [],
   "source": [
    "def type_convert(x):\n",
    "    \n",
    "    x=x.lower()\n",
    "    if(x.find('gaming' and '2 in 1')!=-1):\n",
    "        return x\n",
    "    elif(x.find('gaming')!=-1):\n",
    "        return 'Gaming Laptop'\n",
    "    elif(x.find('2 in 1')!=-1):\n",
    "        return x\n",
    "    elif(x.find('notebook')!=-1):\n",
    "        return x\n",
    "    elif(x.find('chromebook')!=-1):\n",
    "        return x\n",
    "    elif(x.find('business laptop')!=-1):\n",
    "        return x\n",
    "    else:\n",
    "        return 'laptop'\n",
    "    "
   ]
  },
  {
   "cell_type": "code",
   "execution_count": 34,
   "id": "24365cb1",
   "metadata": {},
   "outputs": [],
   "source": [
    "df['Type']=df['Type'].apply(type_convert)"
   ]
  },
  {
   "cell_type": "code",
   "execution_count": 35,
   "id": "dece0e7f",
   "metadata": {},
   "outputs": [
    {
     "data": {
      "text/plain": [
       "laptop                  276\n",
       "Gaming Laptop           151\n",
       "2 in 1 laptop            23\n",
       "notebook                 12\n",
       "chromebook               10\n",
       "business laptop           6\n",
       "2 in 1 gaming laptop      5\n",
       "Name: Type, dtype: int64"
      ]
     },
     "execution_count": 35,
     "metadata": {},
     "output_type": "execute_result"
    }
   ],
   "source": [
    "df['Type'].value_counts()"
   ]
  },
  {
   "cell_type": "code",
   "execution_count": 36,
   "id": "8292e163",
   "metadata": {},
   "outputs": [
    {
     "data": {
      "text/plain": [
       "<Axes: >"
      ]
     },
     "execution_count": 36,
     "metadata": {},
     "output_type": "execute_result"
    },
    {
     "data": {
      "image/png": "[encoded data removed]",
      "text/plain": [
       "<Figure size 640x480 with 1 Axes>"
      ]
     },
     "metadata": {},
     "output_type": "display_data"
    }
   ],
   "source": [
    "df['Type'].value_counts().plot(kind='bar')"
   ]
  },
  {
   "cell_type": "code",
   "execution_count": 37,
   "id": "eee2255a",
   "metadata": {},
   "outputs": [
    {
     "data": {
      "image/png": "[encoded data removed]",
      "text/plain": [
       "<Figure size 640x480 with 1 Axes>"
      ]
     },
     "metadata": {},
     "output_type": "display_data"
    }
   ],
   "source": [
    "sns.barplot(x=df['Type'],y=df['Price'])\n",
    "plt.xticks(rotation='vertical')\n",
    "plt.show()"
   ]
  },
  {
   "cell_type": "code",
   "execution_count": 38,
   "id": "b4b3e2eb",
   "metadata": {},
   "outputs": [
    {
     "name": "stderr",
     "output_type": "stream",
     "text": [
      "C:\\Users\\USER\\AppData\\Local\\Temp\\ipykernel_38580\\1439577752.py:1: UserWarning: \n",
      "\n",
      "`distplot` is a deprecated function and will be removed in seaborn v0.14.0.\n",
      "\n",
      "Please adapt your code to use either `displot` (a figure-level function with\n",
      "similar flexibility) or `histplot` (an axes-level function for histograms).\n",
      "\n",
      "For a guide to updating your code to use the new functions, please see\n",
      "https://gist.github.com/mwaskom/de44147ed2974457ad6372750bbe5751\n",
      "\n",
      "  sns.distplot(df['Inches'])\n"
     ]
    },
    {
     "data": {
      "text/plain": [
       "<Axes: xlabel='Inches', ylabel='Density'>"
      ]
     },
     "execution_count": 38,
     "metadata": {},
     "output_type": "execute_result"
    },
    {
     "data": {
      "image/png": "[encoded data removed]",
      "text/plain": [
       "<Figure size 640x480 with 1 Axes>"
      ]
     },
     "metadata": {},
     "output_type": "display_data"
    }
   ],
   "source": [
    "sns.distplot(df['Inches'])"
   ]
  },
  {
   "cell_type": "code",
   "execution_count": 39,
   "id": "c1cf42e3",
   "metadata": {},
   "outputs": [
    {
     "data": {
      "text/plain": [
       "<Axes: xlabel='Inches', ylabel='Price'>"
      ]
     },
     "execution_count": 39,
     "metadata": {},
     "output_type": "execute_result"
    },
    {
     "data": {
      "image/png": "[encoded data removed]",
      "text/plain": [
       "<Figure size 640x480 with 1 Axes>"
      ]
     },
     "metadata": {},
     "output_type": "display_data"
    }
   ],
   "source": [
    "sns.scatterplot(x=df['Inches'],y=df['Price'])"
   ]
  },
  {
   "cell_type": "code",
   "execution_count": 40,
   "id": "7f6af4e5",
   "metadata": {},
   "outputs": [
    {
     "data": {
      "text/plain": [
       "<Axes: >"
      ]
     },
     "execution_count": 40,
     "metadata": {},
     "output_type": "execute_result"
    },
    {
     "data": {
      "image/png": "[encoded data removed]",
      "text/plain": [
       "<Figure size 640x480 with 1 Axes>"
      ]
     },
     "metadata": {},
     "output_type": "display_data"
    }
   ],
   "source": [
    "df['RAM'].value_counts().plot(kind='bar')"
   ]
  },
  {
   "cell_type": "code",
   "execution_count": 41,
   "id": "0778406a",
   "metadata": {},
   "outputs": [
    {
     "data": {
      "text/plain": [
       "<Axes: xlabel='RAM', ylabel='Price'>"
      ]
     },
     "execution_count": 41,
     "metadata": {},
     "output_type": "execute_result"
    },
    {
     "data": {
      "image/png": "[encoded data removed]",
      "text/plain": [
       "<Figure size 640x480 with 1 Axes>"
      ]
     },
     "metadata": {},
     "output_type": "display_data"
    }
   ],
   "source": [
    "sns.barplot(x=df['RAM'],y=df['Price'])"
   ]
  },
  {
   "cell_type": "code",
   "execution_count": 42,
   "id": "77ee0745",
   "metadata": {},
   "outputs": [
    {
     "data": {
      "text/plain": [
       "<Axes: >"
      ]
     },
     "execution_count": 42,
     "metadata": {},
     "output_type": "execute_result"
    },
    {
     "data": {
      "image/png": "[encoded data removed]",
      "text/plain": [
       "<Figure size 640x480 with 1 Axes>"
      ]
     },
     "metadata": {},
     "output_type": "display_data"
    }
   ],
   "source": [
    "df['Processor Name'].value_counts().plot(kind='bar')"
   ]
  },
  {
   "cell_type": "code",
   "execution_count": 43,
   "id": "82d495dc",
   "metadata": {},
   "outputs": [
    {
     "data": {
      "text/plain": [
       "Intel Core i5 12th Gen              66\n",
       "AMD Ryzen 5 Hexa Core               50\n",
       "Intel Core i5 11th Gen              43\n",
       "Intel Core i3 11th Gen              39\n",
       "AMD Ryzen 7 Octa Core               39\n",
       "Intel Core i5 13th Gen              29\n",
       "Intel Core i7 12th Gen              24\n",
       "Intel Core i3 12th Gen              20\n",
       "Intel Celeron Dual Core             17\n",
       "Intel Core i7 13th Gen              17\n",
       "Intel Core i3 10th Gen              14\n",
       "Intel Core i9 13th Gen              14\n",
       "AMD Ryzen 3 Quad Core               11\n",
       "Intel Core i7 11th Gen              11\n",
       "AMD Ryzen 5 Quad Core               10\n",
       "AMD Ryzen 3 Dual Core                9\n",
       "Intel Core i5 10th Gen               9\n",
       "AMD Ryzen 9 Octa Core                8\n",
       "Intel Core i9 12th Gen               7\n",
       "Intel Core i3 13th Gen               7\n",
       "AMD Athlon Dual Core                 7\n",
       "Apple M2                             6\n",
       "MediaTek MediaTek MT8788             3\n",
       "Apple M1                             3\n",
       "Intel Core i5 8th Gen                2\n",
       "Intel Core i7 8th Gen                2\n",
       "Intel Core i7 10th Gen               2\n",
       "Intel Core i5 7th Gen                2\n",
       "Intel Celeron Quad Core              1\n",
       "MediaTek MediaTek Kompanio 1200      1\n",
       "Intel Core i9 11th Gen               1\n",
       "AMD Ryzen 9 16 Core                  1\n",
       "Intel Pentium Quad Core              1\n",
       "Intel Celeron Dual Core 11th Gen     1\n",
       "Apple M1 Pro                         1\n",
       "AMD Ryzen 3 Hexa Core                1\n",
       "Intel Core i3                        1\n",
       "Qualcomm Snapdragon 7c Gen 2         1\n",
       "AMD Ryzen Z1 Octa Core               1\n",
       "AMD Dual Core                        1\n",
       "Name: Processor Name, dtype: int64"
      ]
     },
     "execution_count": 43,
     "metadata": {},
     "output_type": "execute_result"
    }
   ],
   "source": [
    "df['Processor Name'].value_counts()"
   ]
  },
  {
   "cell_type": "code",
   "execution_count": 44,
   "id": "b4414753",
   "metadata": {},
   "outputs": [],
   "source": [
    "def fetch_processors(x):\n",
    "    if x=='Intel Core i5 12th Gen'or x== 'AMD Ryzen 5 Hexa Core' or x=='Intel Core i5 11th Gen' or x=='Intel Core i3 11th Gen' or x=='AMD Ryzen 7 Octa Core' or x=='Intel Core i5 13th Gen' or x=='Intel Core i7 12th Gen' or x=='Intel Core i3 12th Gen':\n",
    "        return x\n",
    "    elif (x.find('Intel')!=-1):\n",
    "        return 'Other Intel Processor'\n",
    "    elif (x.find('AMD')!=-1):\n",
    "        return 'Other AMD Processor'\n",
    "    elif (x.find('Apple')!=-1):\n",
    "        return 'Apple Processor'\n",
    "    elif (x.find('MediaTek')!=-1):\n",
    "        return 'Mediatek Processor'\n",
    "    else:\n",
    "        return x"
   ]
  },
  {
   "cell_type": "code",
   "execution_count": 45,
   "id": "316c1524",
   "metadata": {},
   "outputs": [],
   "source": [
    "df['Processor Name']=df['Processor Name'].apply(fetch_processors)"
   ]
  },
  {
   "cell_type": "code",
   "execution_count": 46,
   "id": "89cd8d31",
   "metadata": {},
   "outputs": [
    {
     "data": {
      "text/plain": [
       "Other Intel Processor           109\n",
       "Intel Core i5 12th Gen           66\n",
       "AMD Ryzen 5 Hexa Core            50\n",
       "Other AMD Processor              49\n",
       "Intel Core i5 11th Gen           43\n",
       "Intel Core i3 11th Gen           39\n",
       "AMD Ryzen 7 Octa Core            39\n",
       "Intel Core i5 13th Gen           29\n",
       "Intel Core i7 12th Gen           24\n",
       "Intel Core i3 12th Gen           20\n",
       "Apple Processor                  10\n",
       "Mediatek Processor                4\n",
       "Qualcomm Snapdragon 7c Gen 2      1\n",
       "Name: Processor Name, dtype: int64"
      ]
     },
     "execution_count": 46,
     "metadata": {},
     "output_type": "execute_result"
    }
   ],
   "source": [
    "df['Processor Name'].value_counts()"
   ]
  },
  {
   "cell_type": "code",
   "execution_count": 47,
   "id": "78ce6887",
   "metadata": {},
   "outputs": [],
   "source": [
    "df.drop(df.index[(df[\"Processor Name\"] == \"Qualcomm Snapdragon 7c Gen 2\")],axis=0,inplace=True)"
   ]
  },
  {
   "cell_type": "code",
   "execution_count": 48,
   "id": "55b70b6a",
   "metadata": {},
   "outputs": [
    {
     "data": {
      "text/plain": [
       "<Axes: >"
      ]
     },
     "execution_count": 48,
     "metadata": {},
     "output_type": "execute_result"
    },
    {
     "data": {
      "image/png": "[encoded data removed]",
      "text/plain": [
       "<Figure size 640x480 with 1 Axes>"
      ]
     },
     "metadata": {},
     "output_type": "display_data"
    }
   ],
   "source": [
    "df['Processor Name'].value_counts().plot(kind='bar')"
   ]
  },
  {
   "cell_type": "code",
   "execution_count": 49,
   "id": "0d6c1cd7",
   "metadata": {},
   "outputs": [
    {
     "data": {
      "image/png": "[encoded data removed]",
      "text/plain": [
       "<Figure size 640x480 with 1 Axes>"
      ]
     },
     "metadata": {},
     "output_type": "display_data"
    }
   ],
   "source": [
    "sns.barplot(x=df['Processor Name'],y=df['Price'])\n",
    "plt.xticks(rotation='vertical')\n",
    "plt.show()"
   ]
  },
  {
   "cell_type": "code",
   "execution_count": 50,
   "id": "bcbeff14",
   "metadata": {},
   "outputs": [
    {
     "data": {
      "text/plain": [
       "<Axes: >"
      ]
     },
     "execution_count": 50,
     "metadata": {},
     "output_type": "execute_result"
    },
    {
     "data": {
      "image/png": "[encoded data removed]",
      "text/plain": [
       "<Figure size 640x480 with 1 Axes>"
      ]
     },
     "metadata": {},
     "output_type": "display_data"
    }
   ],
   "source": [
    "df['Osys'].value_counts().plot(kind='bar')"
   ]
  },
  {
   "cell_type": "code",
   "execution_count": 51,
   "id": "d4503b8c",
   "metadata": {},
   "outputs": [
    {
     "data": {
      "text/plain": [
       "Windows 11         398\n",
       "Windows 10          46\n",
       "Chrome OS           10\n",
       "DOS                  8\n",
       "Mac OS Monterey      6\n",
       "Windows 10 Pro       4\n",
       "Mac OS Big Sur       3\n",
       "Prime OS             3\n",
       "Windows 11 Pro       2\n",
       "macOS Ventura        1\n",
       "Ubuntu               1\n",
       "Name: Osys, dtype: int64"
      ]
     },
     "execution_count": 51,
     "metadata": {},
     "output_type": "execute_result"
    }
   ],
   "source": [
    "df['Osys'].value_counts()"
   ]
  },
  {
   "cell_type": "code",
   "execution_count": 52,
   "id": "05f43e10",
   "metadata": {},
   "outputs": [],
   "source": [
    "def fetch_window(x):\n",
    "    x=x.lower()\n",
    "    if(x.find('windows')!=-1):\n",
    "        return 'Windows'\n",
    "    elif(x.find('mac')!=-1):\n",
    "        return 'MAC'\n",
    "    else:\n",
    "        return 'Other'"
   ]
  },
  {
   "cell_type": "code",
   "execution_count": 53,
   "id": "f94f4864",
   "metadata": {},
   "outputs": [],
   "source": [
    "df['Osys']=df['Osys'].apply(fetch_window)"
   ]
  },
  {
   "cell_type": "code",
   "execution_count": 54,
   "id": "2bb2a76e",
   "metadata": {},
   "outputs": [
    {
     "data": {
      "text/plain": [
       "<Axes: >"
      ]
     },
     "execution_count": 54,
     "metadata": {},
     "output_type": "execute_result"
    },
    {
     "data": {
      "image/png": "[encoded data removed]",
      "text/plain": [
       "<Figure size 640x480 with 1 Axes>"
      ]
     },
     "metadata": {},
     "output_type": "display_data"
    }
   ],
   "source": [
    "df['Osys'].value_counts().plot(kind='bar')"
   ]
  },
  {
   "cell_type": "code",
   "execution_count": 55,
   "id": "0cd99ce8",
   "metadata": {},
   "outputs": [
    {
     "data": {
      "image/png": "[encoded data removed]",
      "text/plain": [
       "<Figure size 640x480 with 1 Axes>"
      ]
     },
     "metadata": {},
     "output_type": "display_data"
    }
   ],
   "source": [
    "sns.barplot(x=df['Osys'],y=df['Price'])\n",
    "plt.xticks(rotation='vertical')\n",
    "plt.show()"
   ]
  },
  {
   "cell_type": "code",
   "execution_count": 56,
   "id": "5fe426b3",
   "metadata": {},
   "outputs": [
    {
     "data": {
      "text/plain": [
       "<Axes: >"
      ]
     },
     "execution_count": 56,
     "metadata": {},
     "output_type": "execute_result"
    },
    {
     "data": {
      "image/png": "[encoded data removed]",
      "text/plain": [
       "<Figure size 640x480 with 1 Axes>"
      ]
     },
     "metadata": {},
     "output_type": "display_data"
    }
   ],
   "source": [
    "df['TouchScreen'].value_counts().plot(kind='bar')"
   ]
  },
  {
   "cell_type": "code",
   "execution_count": 57,
   "id": "565a1fcf",
   "metadata": {},
   "outputs": [
    {
     "data": {
      "text/plain": [
       "<Axes: xlabel='TouchScreen', ylabel='Price'>"
      ]
     },
     "execution_count": 57,
     "metadata": {},
     "output_type": "execute_result"
    },
    {
     "data": {
      "image/png": "[encoded data removed]",
      "text/plain": [
       "<Figure size 640x480 with 1 Axes>"
      ]
     },
     "metadata": {},
     "output_type": "display_data"
    }
   ],
   "source": [
    "sns.barplot(x=df['TouchScreen'],y=df['Price'])"
   ]
  },
  {
   "cell_type": "code",
   "execution_count": 58,
   "id": "874c5193",
   "metadata": {},
   "outputs": [
    {
     "data": {
      "text/plain": [
       "<Axes: >"
      ]
     },
     "execution_count": 58,
     "metadata": {},
     "output_type": "execute_result"
    },
    {
     "data": {
      "image/png": "[encoded data removed]",
      "text/plain": [
       "<Figure size 640x480 with 1 Axes>"
      ]
     },
     "metadata": {},
     "output_type": "display_data"
    }
   ],
   "source": [
    "df['Graphic Card'].value_counts().plot(kind='bar')"
   ]
  },
  {
   "cell_type": "code",
   "execution_count": 59,
   "id": "4fa2d37c",
   "metadata": {},
   "outputs": [
    {
     "data": {
      "text/plain": [
       "<Axes: xlabel='Graphic Card', ylabel='Price'>"
      ]
     },
     "execution_count": 59,
     "metadata": {},
     "output_type": "execute_result"
    },
    {
     "data": {
      "image/png": "[encoded data removed]",
      "text/plain": [
       "<Figure size 640x480 with 1 Axes>"
      ]
     },
     "metadata": {},
     "output_type": "display_data"
    }
   ],
   "source": [
    "sns.barplot(x=df['Graphic Card'],y=df['Price'])"
   ]
  },
  {
   "cell_type": "code",
   "execution_count": 60,
   "id": "4d9c2230",
   "metadata": {},
   "outputs": [
    {
     "name": "stderr",
     "output_type": "stream",
     "text": [
      "C:\\Users\\USER\\AppData\\Local\\Temp\\ipykernel_38580\\4076993975.py:1: UserWarning: \n",
      "\n",
      "`distplot` is a deprecated function and will be removed in seaborn v0.14.0.\n",
      "\n",
      "Please adapt your code to use either `displot` (a figure-level function with\n",
      "similar flexibility) or `histplot` (an axes-level function for histograms).\n",
      "\n",
      "For a guide to updating your code to use the new functions, please see\n",
      "https://gist.github.com/mwaskom/de44147ed2974457ad6372750bbe5751\n",
      "\n",
      "  sns.distplot(df['KGs'])\n"
     ]
    },
    {
     "data": {
      "text/plain": [
       "<Axes: xlabel='KGs', ylabel='Density'>"
      ]
     },
     "execution_count": 60,
     "metadata": {},
     "output_type": "execute_result"
    },
    {
     "data": {
      "image/png": "[encoded data removed]",
      "text/plain": [
       "<Figure size 640x480 with 1 Axes>"
      ]
     },
     "metadata": {},
     "output_type": "display_data"
    }
   ],
   "source": [
    "sns.distplot(df['KGs'])"
   ]
  },
  {
   "cell_type": "code",
   "execution_count": 61,
   "id": "56b46d14",
   "metadata": {},
   "outputs": [
    {
     "data": {
      "text/plain": [
       "<Axes: xlabel='KGs', ylabel='Price'>"
      ]
     },
     "execution_count": 61,
     "metadata": {},
     "output_type": "execute_result"
    },
    {
     "data": {
      "image/png": "[encoded data removed]",
      "text/plain": [
       "<Figure size 640x480 with 1 Axes>"
      ]
     },
     "metadata": {},
     "output_type": "display_data"
    }
   ],
   "source": [
    "sns.scatterplot(x=df['KGs'],y=df['Price'])"
   ]
  },
  {
   "cell_type": "code",
   "execution_count": 62,
   "id": "aa51263f",
   "metadata": {},
   "outputs": [
    {
     "name": "stderr",
     "output_type": "stream",
     "text": [
      "C:\\Users\\USER\\AppData\\Local\\Temp\\ipykernel_38580\\815546952.py:1: FutureWarning: The default value of numeric_only in DataFrame.corr is deprecated. In a future version, it will default to False. Select only valid columns or specify the value of numeric_only to silence this warning.\n",
      "  df.corr()['Price']\n"
     ]
    },
    {
     "data": {
      "text/plain": [
       "Inches          0.202677\n",
       "RAM             0.723700\n",
       "TouchScreen     0.027069\n",
       "Graphic Card    0.457602\n",
       "KGs             0.382998\n",
       "X_RES           0.549990\n",
       "Y_RES           0.579578\n",
       "Price           1.000000\n",
       "Name: Price, dtype: float64"
      ]
     },
     "execution_count": 62,
     "metadata": {},
     "output_type": "execute_result"
    }
   ],
   "source": [
    "df.corr()['Price']"
   ]
  },
  {
   "cell_type": "code",
   "execution_count": 63,
   "id": "82c53521",
   "metadata": {},
   "outputs": [],
   "source": [
    "df['ppi']=(((df['X_RES']**2)+(df['Y_RES']**2))**0.5)/df['Inches']"
   ]
  },
  {
   "cell_type": "code",
   "execution_count": 64,
   "id": "02c7090c",
   "metadata": {},
   "outputs": [],
   "source": [
    "df['ppi']=df['ppi'].astype('float64')"
   ]
  },
  {
   "cell_type": "code",
   "execution_count": 65,
   "id": "de5b9932",
   "metadata": {},
   "outputs": [
    {
     "data": {
      "text/html": [
       "<div>\n",
       "<style scoped>\n",
       "    .dataframe tbody tr th:only-of-type {\n",
       "        vertical-align: middle;\n",
       "    }\n",
       "\n",
       "    .dataframe tbody tr th {\n",
       "        vertical-align: top;\n",
       "    }\n",
       "\n",
       "    .dataframe thead th {\n",
       "        text-align: right;\n",
       "    }\n",
       "</style>\n",
       "<table border=\"1\" class=\"dataframe\">\n",
       "  <thead>\n",
       "    <tr style=\"text-align: right;\">\n",
       "      <th></th>\n",
       "      <th>Company</th>\n",
       "      <th>Type</th>\n",
       "      <th>Inches</th>\n",
       "      <th>RAM</th>\n",
       "      <th>Processor Name</th>\n",
       "      <th>Osys</th>\n",
       "      <th>MEMORY</th>\n",
       "      <th>TouchScreen</th>\n",
       "      <th>Graphic Card</th>\n",
       "      <th>KGs</th>\n",
       "      <th>X_RES</th>\n",
       "      <th>Y_RES</th>\n",
       "      <th>Price</th>\n",
       "      <th>ppi</th>\n",
       "    </tr>\n",
       "  </thead>\n",
       "  <tbody>\n",
       "    <tr>\n",
       "      <th>668</th>\n",
       "      <td>ASUS</td>\n",
       "      <td>Gaming Laptop</td>\n",
       "      <td>15.6</td>\n",
       "      <td>16</td>\n",
       "      <td>Intel Core i5 12th Gen</td>\n",
       "      <td>Windows</td>\n",
       "      <td>512 GB SSD</td>\n",
       "      <td>0</td>\n",
       "      <td>1</td>\n",
       "      <td>2.20</td>\n",
       "      <td>1920.0</td>\n",
       "      <td>1080.0</td>\n",
       "      <td>87990</td>\n",
       "      <td>141.211998</td>\n",
       "    </tr>\n",
       "    <tr>\n",
       "      <th>838</th>\n",
       "      <td>HP</td>\n",
       "      <td>chromebook</td>\n",
       "      <td>13.3</td>\n",
       "      <td>8</td>\n",
       "      <td>Mediatek Processor</td>\n",
       "      <td>Other</td>\n",
       "      <td>256 GB SSD</td>\n",
       "      <td>0</td>\n",
       "      <td>0</td>\n",
       "      <td>1.49</td>\n",
       "      <td>1920.0</td>\n",
       "      <td>1080.0</td>\n",
       "      <td>43747</td>\n",
       "      <td>165.632118</td>\n",
       "    </tr>\n",
       "    <tr>\n",
       "      <th>889</th>\n",
       "      <td>ASUS</td>\n",
       "      <td>Gaming Laptop</td>\n",
       "      <td>14.0</td>\n",
       "      <td>32</td>\n",
       "      <td>Other AMD Processor</td>\n",
       "      <td>Windows</td>\n",
       "      <td>1 TB SSD</td>\n",
       "      <td>0</td>\n",
       "      <td>1</td>\n",
       "      <td>1.72</td>\n",
       "      <td>2560.0</td>\n",
       "      <td>1600.0</td>\n",
       "      <td>199990</td>\n",
       "      <td>215.633854</td>\n",
       "    </tr>\n",
       "    <tr>\n",
       "      <th>835</th>\n",
       "      <td>HP</td>\n",
       "      <td>Gaming Laptop</td>\n",
       "      <td>15.6</td>\n",
       "      <td>8</td>\n",
       "      <td>AMD Ryzen 5 Hexa Core</td>\n",
       "      <td>Windows</td>\n",
       "      <td>512 GB SSD</td>\n",
       "      <td>0</td>\n",
       "      <td>1</td>\n",
       "      <td>1.98</td>\n",
       "      <td>1920.0</td>\n",
       "      <td>1080.0</td>\n",
       "      <td>61500</td>\n",
       "      <td>141.211998</td>\n",
       "    </tr>\n",
       "    <tr>\n",
       "      <th>175</th>\n",
       "      <td>HP</td>\n",
       "      <td>laptop</td>\n",
       "      <td>15.6</td>\n",
       "      <td>16</td>\n",
       "      <td>AMD Ryzen 5 Hexa Core</td>\n",
       "      <td>Windows</td>\n",
       "      <td>512 GB SSD</td>\n",
       "      <td>0</td>\n",
       "      <td>0</td>\n",
       "      <td>1.69</td>\n",
       "      <td>1920.0</td>\n",
       "      <td>1080.0</td>\n",
       "      <td>48769</td>\n",
       "      <td>141.211998</td>\n",
       "    </tr>\n",
       "  </tbody>\n",
       "</table>\n",
       "</div>"
      ],
      "text/plain": [
       "    Company           Type  Inches  RAM          Processor Name     Osys  \\\n",
       "668    ASUS  Gaming Laptop    15.6   16  Intel Core i5 12th Gen  Windows   \n",
       "838      HP     chromebook    13.3    8      Mediatek Processor    Other   \n",
       "889    ASUS  Gaming Laptop    14.0   32     Other AMD Processor  Windows   \n",
       "835      HP  Gaming Laptop    15.6    8   AMD Ryzen 5 Hexa Core  Windows   \n",
       "175      HP         laptop    15.6   16   AMD Ryzen 5 Hexa Core  Windows   \n",
       "\n",
       "         MEMORY  TouchScreen  Graphic Card   KGs   X_RES   Y_RES   Price  \\\n",
       "668  512 GB SSD            0             1  2.20  1920.0  1080.0   87990   \n",
       "838  256 GB SSD            0             0  1.49  1920.0  1080.0   43747   \n",
       "889    1 TB SSD            0             1  1.72  2560.0  1600.0  199990   \n",
       "835  512 GB SSD            0             1  1.98  1920.0  1080.0   61500   \n",
       "175  512 GB SSD            0             0  1.69  1920.0  1080.0   48769   \n",
       "\n",
       "            ppi  \n",
       "668  141.211998  \n",
       "838  165.632118  \n",
       "889  215.633854  \n",
       "835  141.211998  \n",
       "175  141.211998  "
      ]
     },
     "execution_count": 65,
     "metadata": {},
     "output_type": "execute_result"
    }
   ],
   "source": [
    "df.sample(5)"
   ]
  },
  {
   "cell_type": "code",
   "execution_count": 66,
   "id": "0244f9bb",
   "metadata": {},
   "outputs": [
    {
     "name": "stderr",
     "output_type": "stream",
     "text": [
      "C:\\Users\\USER\\AppData\\Local\\Temp\\ipykernel_38580\\815546952.py:1: FutureWarning: The default value of numeric_only in DataFrame.corr is deprecated. In a future version, it will default to False. Select only valid columns or specify the value of numeric_only to silence this warning.\n",
      "  df.corr()['Price']\n"
     ]
    },
    {
     "data": {
      "text/plain": [
       "Inches          0.202677\n",
       "RAM             0.723700\n",
       "TouchScreen     0.027069\n",
       "Graphic Card    0.457602\n",
       "KGs             0.382998\n",
       "X_RES           0.549990\n",
       "Y_RES           0.579578\n",
       "Price           1.000000\n",
       "ppi             0.431285\n",
       "Name: Price, dtype: float64"
      ]
     },
     "execution_count": 66,
     "metadata": {},
     "output_type": "execute_result"
    }
   ],
   "source": [
    "df.corr()['Price']"
   ]
  },
  {
   "cell_type": "code",
   "execution_count": 67,
   "id": "27b4a9cc",
   "metadata": {},
   "outputs": [],
   "source": [
    "df.drop(columns=['Inches','X_RES','Y_RES'],inplace=True)"
   ]
  },
  {
   "cell_type": "code",
   "execution_count": 68,
   "id": "4ba5767b",
   "metadata": {},
   "outputs": [
    {
     "data": {
      "text/plain": [
       "512 GB SSD                       321\n",
       "1 TB SSD                          70\n",
       "256 GB SSD                        50\n",
       "1 TB HDD,256 GB SSD               14\n",
       "64 GB EMMC Storage                 7\n",
       "1 TB HDD                           4\n",
       "128 GB EMMC Storage                3\n",
       "128 GB SSD                         3\n",
       "2 TB SSD                           3\n",
       "512 GB SSD,16 GB EMMC Storage      1\n",
       "32 GB EMMC Storage                 1\n",
       "512 GB HDD,512 GB SSD              1\n",
       "1 TB HDD,512 GB SSD                1\n",
       "1 TB HDD,1 TB SSD                  1\n",
       "256 GB SSD,32 GB EMMC Storage      1\n",
       "4 TB SSD                           1\n",
       "Name: MEMORY, dtype: int64"
      ]
     },
     "execution_count": 68,
     "metadata": {},
     "output_type": "execute_result"
    }
   ],
   "source": [
    "df['MEMORY'].value_counts()"
   ]
  },
  {
   "cell_type": "code",
   "execution_count": 69,
   "id": "e65e4d74",
   "metadata": {},
   "outputs": [],
   "source": [
    "df['HDD'] = df['MEMORY'].apply(lambda x : x if 'HDD' in x else 0)\n",
    "df['SSD'] = df['MEMORY'].apply(lambda x : x if 'SSD' in x else 0)\n",
    "df['EMMC STORAGE']=df['MEMORY'].apply(lambda x: x if 'EMMC Storage' in x else 0)"
   ]
  },
  {
   "cell_type": "code",
   "execution_count": 70,
   "id": "c71ffe03",
   "metadata": {},
   "outputs": [],
   "source": [
    "def splitting_HDD(x):\n",
    "     if x == 0 :\n",
    "        return 0\n",
    "     else:\n",
    "        return x.split(',')[0]"
   ]
  },
  {
   "cell_type": "code",
   "execution_count": 71,
   "id": "290a170c",
   "metadata": {},
   "outputs": [],
   "source": [
    "df['HDD'] = df['HDD'].apply(splitting_HDD)"
   ]
  },
  {
   "cell_type": "code",
   "execution_count": 72,
   "id": "a154958b",
   "metadata": {},
   "outputs": [
    {
     "data": {
      "text/plain": [
       "0             461\n",
       "1 TB HDD       20\n",
       "512 GB HDD      1\n",
       "Name: HDD, dtype: int64"
      ]
     },
     "execution_count": 72,
     "metadata": {},
     "output_type": "execute_result"
    }
   ],
   "source": [
    "df['HDD'].value_counts()"
   ]
  },
  {
   "cell_type": "code",
   "execution_count": 73,
   "id": "fd65713b",
   "metadata": {},
   "outputs": [],
   "source": [
    "def splitting_by_space(x):\n",
    "      if x == 0 :\n",
    "        return 0\n",
    "      else:\n",
    "        return x.split(' ')[0]"
   ]
  },
  {
   "cell_type": "code",
   "execution_count": 74,
   "id": "5a941569",
   "metadata": {},
   "outputs": [],
   "source": [
    "df['HDD'] = df['HDD'].apply(splitting_by_space)"
   ]
  },
  {
   "cell_type": "code",
   "execution_count": 75,
   "id": "bc6694ce",
   "metadata": {},
   "outputs": [],
   "source": [
    "df['HDD'] = df['HDD'].astype('int64')"
   ]
  },
  {
   "cell_type": "code",
   "execution_count": 76,
   "id": "9e5d402e",
   "metadata": {},
   "outputs": [
    {
     "data": {
      "text/plain": [
       "0      461\n",
       "1       20\n",
       "512      1\n",
       "Name: HDD, dtype: int64"
      ]
     },
     "execution_count": 76,
     "metadata": {},
     "output_type": "execute_result"
    }
   ],
   "source": [
    "df['HDD'].value_counts()"
   ]
  },
  {
   "cell_type": "code",
   "execution_count": 77,
   "id": "af5d2913",
   "metadata": {},
   "outputs": [],
   "source": [
    "def convert_HDD(x):\n",
    "    if x==1:\n",
    "        return 1000\n",
    "    elif x==512:\n",
    "        return 512\n",
    "    else:\n",
    "        return 0"
   ]
  },
  {
   "cell_type": "code",
   "execution_count": 78,
   "id": "e6000c97",
   "metadata": {},
   "outputs": [],
   "source": [
    "df['HDD'] = df['HDD'].apply(convert_HDD)"
   ]
  },
  {
   "cell_type": "code",
   "execution_count": 79,
   "id": "97f8a82d",
   "metadata": {},
   "outputs": [
    {
     "data": {
      "text/plain": [
       "0       461\n",
       "1000     20\n",
       "512       1\n",
       "Name: HDD, dtype: int64"
      ]
     },
     "execution_count": 79,
     "metadata": {},
     "output_type": "execute_result"
    }
   ],
   "source": [
    "df['HDD'].value_counts()"
   ]
  },
  {
   "cell_type": "code",
   "execution_count": 80,
   "id": "e905d696",
   "metadata": {},
   "outputs": [],
   "source": [
    "df['SSD'] = df['SSD'].astype('str')\n",
    "def splitting_SSD(x): \n",
    "        \n",
    "    \n",
    "        if(x.find('SSD' and 'EMMC Storage')!=-1):\n",
    "            return x.split(',')[0]\n",
    "        elif(x.find('HDD' and 'SSD')!=-1):\n",
    "            return x.split(',')[-1]\n",
    "        elif(x.find('SSD')!=-1):\n",
    "            return x\n",
    "        else:\n",
    "            return 0"
   ]
  },
  {
   "cell_type": "code",
   "execution_count": 81,
   "id": "f0d3e56b",
   "metadata": {},
   "outputs": [],
   "source": [
    "df['SSD']=df['SSD'].apply(splitting_SSD)"
   ]
  },
  {
   "cell_type": "code",
   "execution_count": 82,
   "id": "fb4c4d4b",
   "metadata": {},
   "outputs": [
    {
     "data": {
      "text/plain": [
       "512 GB SSD    324\n",
       "1 TB SSD       71\n",
       "256 GB SSD     65\n",
       "0              15\n",
       "128 GB SSD      3\n",
       "2 TB SSD        3\n",
       "4 TB SSD        1\n",
       "Name: SSD, dtype: int64"
      ]
     },
     "execution_count": 82,
     "metadata": {},
     "output_type": "execute_result"
    }
   ],
   "source": [
    "df['SSD'].value_counts()"
   ]
  },
  {
   "cell_type": "code",
   "execution_count": 83,
   "id": "8fa86859",
   "metadata": {},
   "outputs": [],
   "source": [
    "df['SSD']=df['SSD'].apply(splitting_by_space)"
   ]
  },
  {
   "cell_type": "code",
   "execution_count": 84,
   "id": "2cceb908",
   "metadata": {},
   "outputs": [
    {
     "data": {
      "text/plain": [
       "512    324\n",
       "1       71\n",
       "256     65\n",
       "0       15\n",
       "128      3\n",
       "2        3\n",
       "4        1\n",
       "Name: SSD, dtype: int64"
      ]
     },
     "execution_count": 84,
     "metadata": {},
     "output_type": "execute_result"
    }
   ],
   "source": [
    "df['SSD'].value_counts()"
   ]
  },
  {
   "cell_type": "code",
   "execution_count": 85,
   "id": "c859333b",
   "metadata": {},
   "outputs": [],
   "source": [
    "df['SSD'] = df['SSD'].astype('int64')"
   ]
  },
  {
   "cell_type": "code",
   "execution_count": 86,
   "id": "e80dba6a",
   "metadata": {},
   "outputs": [],
   "source": [
    "def convert_SSD(x):\n",
    "    if x==1:\n",
    "        return 1000\n",
    "    elif x==2:\n",
    "        return 2000\n",
    "    elif x==4:\n",
    "        return 4000\n",
    "    elif x==128:\n",
    "        return 128\n",
    "    elif x==256:\n",
    "        return 256\n",
    "    elif x==512:\n",
    "        return 512\n",
    "    else:\n",
    "        return 0"
   ]
  },
  {
   "cell_type": "code",
   "execution_count": 87,
   "id": "ea236c19",
   "metadata": {},
   "outputs": [],
   "source": [
    "df['SSD']=df['SSD'].apply(convert_SSD)"
   ]
  },
  {
   "cell_type": "code",
   "execution_count": 88,
   "id": "b884a749",
   "metadata": {},
   "outputs": [
    {
     "data": {
      "text/plain": [
       "512     324\n",
       "1000     71\n",
       "256      65\n",
       "0        15\n",
       "128       3\n",
       "2000      3\n",
       "4000      1\n",
       "Name: SSD, dtype: int64"
      ]
     },
     "execution_count": 88,
     "metadata": {},
     "output_type": "execute_result"
    }
   ],
   "source": [
    "df['SSD'].value_counts()"
   ]
  },
  {
   "cell_type": "code",
   "execution_count": 89,
   "id": "52827213",
   "metadata": {},
   "outputs": [],
   "source": [
    "def splitting_emmc(x):\n",
    "    if x==0:\n",
    "        return 0\n",
    "    else:\n",
    "        return x.split(',')[-1]"
   ]
  },
  {
   "cell_type": "code",
   "execution_count": 90,
   "id": "dd906f63",
   "metadata": {},
   "outputs": [],
   "source": [
    "df['EMMC STORAGE']=df['EMMC STORAGE'].apply(splitting_emmc)"
   ]
  },
  {
   "cell_type": "code",
   "execution_count": 91,
   "id": "224d6693",
   "metadata": {},
   "outputs": [
    {
     "data": {
      "text/plain": [
       "0                      469\n",
       "64 GB EMMC Storage       7\n",
       "128 GB EMMC Storage      3\n",
       "32 GB EMMC Storage       2\n",
       "16 GB EMMC Storage       1\n",
       "Name: EMMC STORAGE, dtype: int64"
      ]
     },
     "execution_count": 91,
     "metadata": {},
     "output_type": "execute_result"
    }
   ],
   "source": [
    "df['EMMC STORAGE'].value_counts()"
   ]
  },
  {
   "cell_type": "code",
   "execution_count": 92,
   "id": "b8300665",
   "metadata": {},
   "outputs": [],
   "source": [
    "df['EMMC STORAGE']=df['EMMC STORAGE'].apply(splitting_by_space)"
   ]
  },
  {
   "cell_type": "code",
   "execution_count": 93,
   "id": "11b57bfd",
   "metadata": {},
   "outputs": [
    {
     "data": {
      "text/plain": [
       "0      469\n",
       "64       7\n",
       "128      3\n",
       "32       2\n",
       "16       1\n",
       "Name: EMMC STORAGE, dtype: int64"
      ]
     },
     "execution_count": 93,
     "metadata": {},
     "output_type": "execute_result"
    }
   ],
   "source": [
    "df['EMMC STORAGE'].value_counts()"
   ]
  },
  {
   "cell_type": "code",
   "execution_count": 94,
   "id": "7cf32d45",
   "metadata": {},
   "outputs": [],
   "source": [
    "df['EMMC STORAGE'] = df['EMMC STORAGE'].astype('int64')"
   ]
  },
  {
   "cell_type": "code",
   "execution_count": 95,
   "id": "b76a2aaf",
   "metadata": {},
   "outputs": [],
   "source": [
    "df.drop(columns='MEMORY',inplace=True)"
   ]
  },
  {
   "cell_type": "code",
   "execution_count": 96,
   "id": "81f5ee93",
   "metadata": {},
   "outputs": [
    {
     "name": "stdout",
     "output_type": "stream",
     "text": [
      "<class 'pandas.core.frame.DataFrame'>\n",
      "Int64Index: 482 entries, 0 to 983\n",
      "Data columns (total 13 columns):\n",
      " #   Column          Non-Null Count  Dtype  \n",
      "---  ------          --------------  -----  \n",
      " 0   Company         482 non-null    object \n",
      " 1   Type            482 non-null    object \n",
      " 2   RAM             482 non-null    int64  \n",
      " 3   Processor Name  482 non-null    object \n",
      " 4   Osys            482 non-null    object \n",
      " 5   TouchScreen     482 non-null    int64  \n",
      " 6   Graphic Card    482 non-null    int64  \n",
      " 7   KGs             482 non-null    float64\n",
      " 8   Price           482 non-null    int64  \n",
      " 9   ppi             482 non-null    float64\n",
      " 10  HDD             482 non-null    int64  \n",
      " 11  SSD             482 non-null    int64  \n",
      " 12  EMMC STORAGE    482 non-null    int64  \n",
      "dtypes: float64(2), int64(7), object(4)\n",
      "memory usage: 52.7+ KB\n"
     ]
    }
   ],
   "source": [
    "df.info()"
   ]
  },
  {
   "cell_type": "code",
   "execution_count": 97,
   "id": "b0bec711",
   "metadata": {},
   "outputs": [
    {
     "data": {
      "text/html": [
       "<div>\n",
       "<style scoped>\n",
       "    .dataframe tbody tr th:only-of-type {\n",
       "        vertical-align: middle;\n",
       "    }\n",
       "\n",
       "    .dataframe tbody tr th {\n",
       "        vertical-align: top;\n",
       "    }\n",
       "\n",
       "    .dataframe thead th {\n",
       "        text-align: right;\n",
       "    }\n",
       "</style>\n",
       "<table border=\"1\" class=\"dataframe\">\n",
       "  <thead>\n",
       "    <tr style=\"text-align: right;\">\n",
       "      <th></th>\n",
       "      <th>Company</th>\n",
       "      <th>Type</th>\n",
       "      <th>RAM</th>\n",
       "      <th>Processor Name</th>\n",
       "      <th>Osys</th>\n",
       "      <th>TouchScreen</th>\n",
       "      <th>Graphic Card</th>\n",
       "      <th>KGs</th>\n",
       "      <th>Price</th>\n",
       "      <th>ppi</th>\n",
       "      <th>HDD</th>\n",
       "      <th>SSD</th>\n",
       "      <th>EMMC STORAGE</th>\n",
       "    </tr>\n",
       "  </thead>\n",
       "  <tbody>\n",
       "    <tr>\n",
       "      <th>435</th>\n",
       "      <td>HP</td>\n",
       "      <td>laptop</td>\n",
       "      <td>8</td>\n",
       "      <td>Intel Core i5 12th Gen</td>\n",
       "      <td>Windows</td>\n",
       "      <td>0</td>\n",
       "      <td>0</td>\n",
       "      <td>1.41</td>\n",
       "      <td>62249</td>\n",
       "      <td>157.350512</td>\n",
       "      <td>0</td>\n",
       "      <td>512</td>\n",
       "      <td>0</td>\n",
       "    </tr>\n",
       "    <tr>\n",
       "      <th>7</th>\n",
       "      <td>HP</td>\n",
       "      <td>Gaming Laptop</td>\n",
       "      <td>8</td>\n",
       "      <td>AMD Ryzen 5 Hexa Core</td>\n",
       "      <td>Windows</td>\n",
       "      <td>0</td>\n",
       "      <td>1</td>\n",
       "      <td>2.37</td>\n",
       "      <td>54990</td>\n",
       "      <td>141.211998</td>\n",
       "      <td>0</td>\n",
       "      <td>512</td>\n",
       "      <td>0</td>\n",
       "    </tr>\n",
       "    <tr>\n",
       "      <th>198</th>\n",
       "      <td>Infinix</td>\n",
       "      <td>laptop</td>\n",
       "      <td>8</td>\n",
       "      <td>Intel Core i3 11th Gen</td>\n",
       "      <td>Windows</td>\n",
       "      <td>0</td>\n",
       "      <td>0</td>\n",
       "      <td>1.58</td>\n",
       "      <td>31990</td>\n",
       "      <td>163.178309</td>\n",
       "      <td>0</td>\n",
       "      <td>256</td>\n",
       "      <td>0</td>\n",
       "    </tr>\n",
       "    <tr>\n",
       "      <th>942</th>\n",
       "      <td>Acer</td>\n",
       "      <td>laptop</td>\n",
       "      <td>8</td>\n",
       "      <td>Intel Core i5 11th Gen</td>\n",
       "      <td>Windows</td>\n",
       "      <td>0</td>\n",
       "      <td>0</td>\n",
       "      <td>1.65</td>\n",
       "      <td>47499</td>\n",
       "      <td>141.211998</td>\n",
       "      <td>0</td>\n",
       "      <td>512</td>\n",
       "      <td>0</td>\n",
       "    </tr>\n",
       "    <tr>\n",
       "      <th>264</th>\n",
       "      <td>Acer</td>\n",
       "      <td>Gaming Laptop</td>\n",
       "      <td>16</td>\n",
       "      <td>Other Intel Processor</td>\n",
       "      <td>Windows</td>\n",
       "      <td>0</td>\n",
       "      <td>1</td>\n",
       "      <td>2.60</td>\n",
       "      <td>124990</td>\n",
       "      <td>141.509717</td>\n",
       "      <td>0</td>\n",
       "      <td>1000</td>\n",
       "      <td>0</td>\n",
       "    </tr>\n",
       "  </tbody>\n",
       "</table>\n",
       "</div>"
      ],
      "text/plain": [
       "     Company           Type  RAM          Processor Name     Osys  \\\n",
       "435       HP         laptop    8  Intel Core i5 12th Gen  Windows   \n",
       "7         HP  Gaming Laptop    8   AMD Ryzen 5 Hexa Core  Windows   \n",
       "198  Infinix         laptop    8  Intel Core i3 11th Gen  Windows   \n",
       "942     Acer         laptop    8  Intel Core i5 11th Gen  Windows   \n",
       "264     Acer  Gaming Laptop   16   Other Intel Processor  Windows   \n",
       "\n",
       "     TouchScreen  Graphic Card   KGs   Price         ppi  HDD   SSD  \\\n",
       "435            0             0  1.41   62249  157.350512    0   512   \n",
       "7              0             1  2.37   54990  141.211998    0   512   \n",
       "198            0             0  1.58   31990  163.178309    0   256   \n",
       "942            0             0  1.65   47499  141.211998    0   512   \n",
       "264            0             1  2.60  124990  141.509717    0  1000   \n",
       "\n",
       "     EMMC STORAGE  \n",
       "435             0  \n",
       "7               0  \n",
       "198             0  \n",
       "942             0  \n",
       "264             0  "
      ]
     },
     "execution_count": 97,
     "metadata": {},
     "output_type": "execute_result"
    }
   ],
   "source": [
    "df.sample(5)"
   ]
  },
  {
   "cell_type": "code",
   "execution_count": 98,
   "id": "224c5e0f",
   "metadata": {},
   "outputs": [
    {
     "name": "stderr",
     "output_type": "stream",
     "text": [
      "C:\\Users\\USER\\AppData\\Local\\Temp\\ipykernel_38580\\815546952.py:1: FutureWarning: The default value of numeric_only in DataFrame.corr is deprecated. In a future version, it will default to False. Select only valid columns or specify the value of numeric_only to silence this warning.\n",
      "  df.corr()['Price']\n"
     ]
    },
    {
     "data": {
      "text/plain": [
       "RAM             0.723700\n",
       "TouchScreen     0.027069\n",
       "Graphic Card    0.457602\n",
       "KGs             0.382998\n",
       "Price           1.000000\n",
       "ppi             0.431285\n",
       "HDD            -0.055997\n",
       "SSD             0.717042\n",
       "EMMC STORAGE   -0.149825\n",
       "Name: Price, dtype: float64"
      ]
     },
     "execution_count": 98,
     "metadata": {},
     "output_type": "execute_result"
    }
   ],
   "source": [
    "df.corr()['Price']"
   ]
  },
  {
   "cell_type": "code",
   "execution_count": 99,
   "id": "68708044",
   "metadata": {},
   "outputs": [
    {
     "name": "stderr",
     "output_type": "stream",
     "text": [
      "C:\\Users\\USER\\AppData\\Local\\Temp\\ipykernel_38580\\58359773.py:1: FutureWarning: The default value of numeric_only in DataFrame.corr is deprecated. In a future version, it will default to False. Select only valid columns or specify the value of numeric_only to silence this warning.\n",
      "  sns.heatmap(df.corr())\n"
     ]
    },
    {
     "data": {
      "text/plain": [
       "<Axes: >"
      ]
     },
     "execution_count": 99,
     "metadata": {},
     "output_type": "execute_result"
    },
    {
     "data": {
      "image/png": "[encoded data removed]",
      "text/plain": [
       "<Figure size 640x480 with 2 Axes>"
      ]
     },
     "metadata": {},
     "output_type": "display_data"
    }
   ],
   "source": [
    "sns.heatmap(df.corr())"
   ]
  },
  {
   "cell_type": "code",
   "execution_count": 100,
   "id": "ea0d508e",
   "metadata": {},
   "outputs": [],
   "source": [
    "#No strong correlation among the columns."
   ]
  },
  {
   "cell_type": "code",
   "execution_count": 101,
   "id": "3ee3425a",
   "metadata": {},
   "outputs": [],
   "source": [
    "#Therefore, we will keep them in modelling."
   ]
  },
  {
   "cell_type": "code",
   "execution_count": 102,
   "id": "92d9b512",
   "metadata": {},
   "outputs": [],
   "source": [
    "#Our target column price is skewed --- which could annoy the ML Algorithms. \n",
    "#Therefore, we will convert it to normal using log transformation."
   ]
  },
  {
   "cell_type": "code",
   "execution_count": 103,
   "id": "62c68120",
   "metadata": {},
   "outputs": [
    {
     "name": "stderr",
     "output_type": "stream",
     "text": [
      "C:\\Users\\USER\\AppData\\Local\\Temp\\ipykernel_38580\\834922981.py:1: UserWarning: \n",
      "\n",
      "`distplot` is a deprecated function and will be removed in seaborn v0.14.0.\n",
      "\n",
      "Please adapt your code to use either `displot` (a figure-level function with\n",
      "similar flexibility) or `histplot` (an axes-level function for histograms).\n",
      "\n",
      "For a guide to updating your code to use the new functions, please see\n",
      "https://gist.github.com/mwaskom/de44147ed2974457ad6372750bbe5751\n",
      "\n",
      "  sns.distplot(df['Price'])\n"
     ]
    },
    {
     "data": {
      "text/plain": [
       "<Axes: xlabel='Price', ylabel='Density'>"
      ]
     },
     "execution_count": 103,
     "metadata": {},
     "output_type": "execute_result"
    },
    {
     "data": {
      "image/png": "[encoded data removed]",
      "text/plain": [
       "<Figure size 640x480 with 1 Axes>"
      ]
     },
     "metadata": {},
     "output_type": "display_data"
    }
   ],
   "source": [
    "sns.distplot(df['Price'])"
   ]
  },
  {
   "cell_type": "code",
   "execution_count": 104,
   "id": "b727bdb0",
   "metadata": {},
   "outputs": [
    {
     "name": "stderr",
     "output_type": "stream",
     "text": [
      "C:\\Users\\USER\\AppData\\Local\\Temp\\ipykernel_38580\\3556049916.py:1: UserWarning: \n",
      "\n",
      "`distplot` is a deprecated function and will be removed in seaborn v0.14.0.\n",
      "\n",
      "Please adapt your code to use either `displot` (a figure-level function with\n",
      "similar flexibility) or `histplot` (an axes-level function for histograms).\n",
      "\n",
      "For a guide to updating your code to use the new functions, please see\n",
      "https://gist.github.com/mwaskom/de44147ed2974457ad6372750bbe5751\n",
      "\n",
      "  sns.distplot(np.log(df['Price']))\n"
     ]
    },
    {
     "data": {
      "text/plain": [
       "<Axes: xlabel='Price', ylabel='Density'>"
      ]
     },
     "execution_count": 104,
     "metadata": {},
     "output_type": "execute_result"
    },
    {
     "data": {
      "image/png": "[encoded data removed]",
      "text/plain": [
       "<Figure size 640x480 with 1 Axes>"
      ]
     },
     "metadata": {},
     "output_type": "display_data"
    }
   ],
   "source": [
    "sns.distplot(np.log(df['Price']))"
   ]
  },
  {
   "cell_type": "code",
   "execution_count": 105,
   "id": "1cde37d6",
   "metadata": {},
   "outputs": [
    {
     "data": {
      "text/html": [
       "<div>\n",
       "<style scoped>\n",
       "    .dataframe tbody tr th:only-of-type {\n",
       "        vertical-align: middle;\n",
       "    }\n",
       "\n",
       "    .dataframe tbody tr th {\n",
       "        vertical-align: top;\n",
       "    }\n",
       "\n",
       "    .dataframe thead th {\n",
       "        text-align: right;\n",
       "    }\n",
       "</style>\n",
       "<table border=\"1\" class=\"dataframe\">\n",
       "  <thead>\n",
       "    <tr style=\"text-align: right;\">\n",
       "      <th></th>\n",
       "      <th>Company</th>\n",
       "      <th>Type</th>\n",
       "      <th>RAM</th>\n",
       "      <th>Processor Name</th>\n",
       "      <th>Osys</th>\n",
       "      <th>TouchScreen</th>\n",
       "      <th>Graphic Card</th>\n",
       "      <th>KGs</th>\n",
       "      <th>Price</th>\n",
       "      <th>ppi</th>\n",
       "      <th>HDD</th>\n",
       "      <th>SSD</th>\n",
       "      <th>EMMC STORAGE</th>\n",
       "    </tr>\n",
       "  </thead>\n",
       "  <tbody>\n",
       "    <tr>\n",
       "      <th>523</th>\n",
       "      <td>Lenovo</td>\n",
       "      <td>Gaming Laptop</td>\n",
       "      <td>8</td>\n",
       "      <td>Other Intel Processor</td>\n",
       "      <td>Windows</td>\n",
       "      <td>0</td>\n",
       "      <td>1</td>\n",
       "      <td>2.2</td>\n",
       "      <td>60000</td>\n",
       "      <td>141.211998</td>\n",
       "      <td>1000</td>\n",
       "      <td>256</td>\n",
       "      <td>0</td>\n",
       "    </tr>\n",
       "    <tr>\n",
       "      <th>333</th>\n",
       "      <td>Acer</td>\n",
       "      <td>Gaming Laptop</td>\n",
       "      <td>16</td>\n",
       "      <td>Intel Core i5 12th Gen</td>\n",
       "      <td>Windows</td>\n",
       "      <td>0</td>\n",
       "      <td>1</td>\n",
       "      <td>2.5</td>\n",
       "      <td>72990</td>\n",
       "      <td>141.211998</td>\n",
       "      <td>0</td>\n",
       "      <td>512</td>\n",
       "      <td>0</td>\n",
       "    </tr>\n",
       "    <tr>\n",
       "      <th>595</th>\n",
       "      <td>ASUS</td>\n",
       "      <td>Gaming Laptop</td>\n",
       "      <td>16</td>\n",
       "      <td>Intel Core i7 12th Gen</td>\n",
       "      <td>Windows</td>\n",
       "      <td>0</td>\n",
       "      <td>1</td>\n",
       "      <td>2.6</td>\n",
       "      <td>114990</td>\n",
       "      <td>127.335675</td>\n",
       "      <td>0</td>\n",
       "      <td>1000</td>\n",
       "      <td>0</td>\n",
       "    </tr>\n",
       "  </tbody>\n",
       "</table>\n",
       "</div>"
      ],
      "text/plain": [
       "    Company           Type  RAM          Processor Name     Osys  TouchScreen  \\\n",
       "523  Lenovo  Gaming Laptop    8   Other Intel Processor  Windows            0   \n",
       "333    Acer  Gaming Laptop   16  Intel Core i5 12th Gen  Windows            0   \n",
       "595    ASUS  Gaming Laptop   16  Intel Core i7 12th Gen  Windows            0   \n",
       "\n",
       "     Graphic Card  KGs   Price         ppi   HDD   SSD  EMMC STORAGE  \n",
       "523             1  2.2   60000  141.211998  1000   256             0  \n",
       "333             1  2.5   72990  141.211998     0   512             0  \n",
       "595             1  2.6  114990  127.335675     0  1000             0  "
      ]
     },
     "execution_count": 105,
     "metadata": {},
     "output_type": "execute_result"
    }
   ],
   "source": [
    "df.sample(3)"
   ]
  },
  {
   "cell_type": "code",
   "execution_count": 106,
   "id": "7854a6c8",
   "metadata": {},
   "outputs": [],
   "source": [
    "# DUMMY COLUMNS"
   ]
  },
  {
   "cell_type": "code",
   "execution_count": 107,
   "id": "e9db1030",
   "metadata": {},
   "outputs": [
    {
     "data": {
      "text/html": [
       "<div>\n",
       "<style scoped>\n",
       "    .dataframe tbody tr th:only-of-type {\n",
       "        vertical-align: middle;\n",
       "    }\n",
       "\n",
       "    .dataframe tbody tr th {\n",
       "        vertical-align: top;\n",
       "    }\n",
       "\n",
       "    .dataframe thead th {\n",
       "        text-align: right;\n",
       "    }\n",
       "</style>\n",
       "<table border=\"1\" class=\"dataframe\">\n",
       "  <thead>\n",
       "    <tr style=\"text-align: right;\">\n",
       "      <th></th>\n",
       "      <th>APPLE</th>\n",
       "      <th>ASUS</th>\n",
       "      <th>Acer</th>\n",
       "      <th>CHUWI</th>\n",
       "      <th>DELL</th>\n",
       "      <th>GIGABYTE</th>\n",
       "      <th>HP</th>\n",
       "      <th>Infinix</th>\n",
       "      <th>Lenovo</th>\n",
       "      <th>MSI</th>\n",
       "      <th>Mi</th>\n",
       "      <th>Primebook</th>\n",
       "      <th>SAMSUNG</th>\n",
       "      <th>realme</th>\n",
       "    </tr>\n",
       "  </thead>\n",
       "  <tbody>\n",
       "    <tr>\n",
       "      <th>0</th>\n",
       "      <td>0</td>\n",
       "      <td>1</td>\n",
       "      <td>0</td>\n",
       "      <td>0</td>\n",
       "      <td>0</td>\n",
       "      <td>0</td>\n",
       "      <td>0</td>\n",
       "      <td>0</td>\n",
       "      <td>0</td>\n",
       "      <td>0</td>\n",
       "      <td>0</td>\n",
       "      <td>0</td>\n",
       "      <td>0</td>\n",
       "      <td>0</td>\n",
       "    </tr>\n",
       "    <tr>\n",
       "      <th>2</th>\n",
       "      <td>0</td>\n",
       "      <td>0</td>\n",
       "      <td>0</td>\n",
       "      <td>0</td>\n",
       "      <td>1</td>\n",
       "      <td>0</td>\n",
       "      <td>0</td>\n",
       "      <td>0</td>\n",
       "      <td>0</td>\n",
       "      <td>0</td>\n",
       "      <td>0</td>\n",
       "      <td>0</td>\n",
       "      <td>0</td>\n",
       "      <td>0</td>\n",
       "    </tr>\n",
       "    <tr>\n",
       "      <th>3</th>\n",
       "      <td>0</td>\n",
       "      <td>0</td>\n",
       "      <td>0</td>\n",
       "      <td>0</td>\n",
       "      <td>0</td>\n",
       "      <td>0</td>\n",
       "      <td>0</td>\n",
       "      <td>0</td>\n",
       "      <td>1</td>\n",
       "      <td>0</td>\n",
       "      <td>0</td>\n",
       "      <td>0</td>\n",
       "      <td>0</td>\n",
       "      <td>0</td>\n",
       "    </tr>\n",
       "    <tr>\n",
       "      <th>4</th>\n",
       "      <td>0</td>\n",
       "      <td>0</td>\n",
       "      <td>0</td>\n",
       "      <td>0</td>\n",
       "      <td>0</td>\n",
       "      <td>0</td>\n",
       "      <td>1</td>\n",
       "      <td>0</td>\n",
       "      <td>0</td>\n",
       "      <td>0</td>\n",
       "      <td>0</td>\n",
       "      <td>0</td>\n",
       "      <td>0</td>\n",
       "      <td>0</td>\n",
       "    </tr>\n",
       "    <tr>\n",
       "      <th>5</th>\n",
       "      <td>0</td>\n",
       "      <td>0</td>\n",
       "      <td>0</td>\n",
       "      <td>0</td>\n",
       "      <td>0</td>\n",
       "      <td>0</td>\n",
       "      <td>1</td>\n",
       "      <td>0</td>\n",
       "      <td>0</td>\n",
       "      <td>0</td>\n",
       "      <td>0</td>\n",
       "      <td>0</td>\n",
       "      <td>0</td>\n",
       "      <td>0</td>\n",
       "    </tr>\n",
       "    <tr>\n",
       "      <th>...</th>\n",
       "      <td>...</td>\n",
       "      <td>...</td>\n",
       "      <td>...</td>\n",
       "      <td>...</td>\n",
       "      <td>...</td>\n",
       "      <td>...</td>\n",
       "      <td>...</td>\n",
       "      <td>...</td>\n",
       "      <td>...</td>\n",
       "      <td>...</td>\n",
       "      <td>...</td>\n",
       "      <td>...</td>\n",
       "      <td>...</td>\n",
       "      <td>...</td>\n",
       "    </tr>\n",
       "    <tr>\n",
       "      <th>963</th>\n",
       "      <td>0</td>\n",
       "      <td>0</td>\n",
       "      <td>0</td>\n",
       "      <td>0</td>\n",
       "      <td>0</td>\n",
       "      <td>0</td>\n",
       "      <td>0</td>\n",
       "      <td>0</td>\n",
       "      <td>1</td>\n",
       "      <td>0</td>\n",
       "      <td>0</td>\n",
       "      <td>0</td>\n",
       "      <td>0</td>\n",
       "      <td>0</td>\n",
       "    </tr>\n",
       "    <tr>\n",
       "      <th>965</th>\n",
       "      <td>0</td>\n",
       "      <td>1</td>\n",
       "      <td>0</td>\n",
       "      <td>0</td>\n",
       "      <td>0</td>\n",
       "      <td>0</td>\n",
       "      <td>0</td>\n",
       "      <td>0</td>\n",
       "      <td>0</td>\n",
       "      <td>0</td>\n",
       "      <td>0</td>\n",
       "      <td>0</td>\n",
       "      <td>0</td>\n",
       "      <td>0</td>\n",
       "    </tr>\n",
       "    <tr>\n",
       "      <th>978</th>\n",
       "      <td>0</td>\n",
       "      <td>0</td>\n",
       "      <td>0</td>\n",
       "      <td>0</td>\n",
       "      <td>0</td>\n",
       "      <td>0</td>\n",
       "      <td>0</td>\n",
       "      <td>0</td>\n",
       "      <td>1</td>\n",
       "      <td>0</td>\n",
       "      <td>0</td>\n",
       "      <td>0</td>\n",
       "      <td>0</td>\n",
       "      <td>0</td>\n",
       "    </tr>\n",
       "    <tr>\n",
       "      <th>979</th>\n",
       "      <td>0</td>\n",
       "      <td>0</td>\n",
       "      <td>0</td>\n",
       "      <td>0</td>\n",
       "      <td>0</td>\n",
       "      <td>0</td>\n",
       "      <td>1</td>\n",
       "      <td>0</td>\n",
       "      <td>0</td>\n",
       "      <td>0</td>\n",
       "      <td>0</td>\n",
       "      <td>0</td>\n",
       "      <td>0</td>\n",
       "      <td>0</td>\n",
       "    </tr>\n",
       "    <tr>\n",
       "      <th>983</th>\n",
       "      <td>0</td>\n",
       "      <td>0</td>\n",
       "      <td>1</td>\n",
       "      <td>0</td>\n",
       "      <td>0</td>\n",
       "      <td>0</td>\n",
       "      <td>0</td>\n",
       "      <td>0</td>\n",
       "      <td>0</td>\n",
       "      <td>0</td>\n",
       "      <td>0</td>\n",
       "      <td>0</td>\n",
       "      <td>0</td>\n",
       "      <td>0</td>\n",
       "    </tr>\n",
       "  </tbody>\n",
       "</table>\n",
       "<p>482 rows × 14 columns</p>\n",
       "</div>"
      ],
      "text/plain": [
       "     APPLE  ASUS  Acer  CHUWI  DELL  GIGABYTE  HP  Infinix  Lenovo  MSI  Mi  \\\n",
       "0        0     1     0      0     0         0   0        0       0    0   0   \n",
       "2        0     0     0      0     1         0   0        0       0    0   0   \n",
       "3        0     0     0      0     0         0   0        0       1    0   0   \n",
       "4        0     0     0      0     0         0   1        0       0    0   0   \n",
       "5        0     0     0      0     0         0   1        0       0    0   0   \n",
       "..     ...   ...   ...    ...   ...       ...  ..      ...     ...  ...  ..   \n",
       "963      0     0     0      0     0         0   0        0       1    0   0   \n",
       "965      0     1     0      0     0         0   0        0       0    0   0   \n",
       "978      0     0     0      0     0         0   0        0       1    0   0   \n",
       "979      0     0     0      0     0         0   1        0       0    0   0   \n",
       "983      0     0     1      0     0         0   0        0       0    0   0   \n",
       "\n",
       "     Primebook  SAMSUNG  realme  \n",
       "0            0        0       0  \n",
       "2            0        0       0  \n",
       "3            0        0       0  \n",
       "4            0        0       0  \n",
       "5            0        0       0  \n",
       "..         ...      ...     ...  \n",
       "963          0        0       0  \n",
       "965          0        0       0  \n",
       "978          0        0       0  \n",
       "979          0        0       0  \n",
       "983          0        0       0  \n",
       "\n",
       "[482 rows x 14 columns]"
      ]
     },
     "execution_count": 107,
     "metadata": {},
     "output_type": "execute_result"
    }
   ],
   "source": [
    "#Company\n",
    "\n",
    "dummies_laptop_company= pd.get_dummies(df['Company'])\n",
    "dummies_laptop_company"
   ]
  },
  {
   "cell_type": "code",
   "execution_count": 108,
   "id": "af8e2e14",
   "metadata": {},
   "outputs": [
    {
     "data": {
      "text/plain": [
       "ASUS         123\n",
       "HP            99\n",
       "Lenovo        69\n",
       "DELL          54\n",
       "MSI           45\n",
       "Acer          43\n",
       "Infinix       21\n",
       "APPLE         10\n",
       "SAMSUNG        6\n",
       "GIGABYTE       5\n",
       "Primebook      3\n",
       "CHUWI          2\n",
       "realme         1\n",
       "Mi             1\n",
       "Name: Company, dtype: int64"
      ]
     },
     "execution_count": 108,
     "metadata": {},
     "output_type": "execute_result"
    }
   ],
   "source": [
    "df['Company'].value_counts()"
   ]
  },
  {
   "cell_type": "code",
   "execution_count": 109,
   "id": "a5e09191",
   "metadata": {},
   "outputs": [
    {
     "data": {
      "text/html": [
       "<div>\n",
       "<style scoped>\n",
       "    .dataframe tbody tr th:only-of-type {\n",
       "        vertical-align: middle;\n",
       "    }\n",
       "\n",
       "    .dataframe tbody tr th {\n",
       "        vertical-align: top;\n",
       "    }\n",
       "\n",
       "    .dataframe thead th {\n",
       "        text-align: right;\n",
       "    }\n",
       "</style>\n",
       "<table border=\"1\" class=\"dataframe\">\n",
       "  <thead>\n",
       "    <tr style=\"text-align: right;\">\n",
       "      <th></th>\n",
       "      <th>2 in 1 gaming laptop</th>\n",
       "      <th>2 in 1 laptop</th>\n",
       "      <th>Gaming Laptop</th>\n",
       "      <th>business laptop</th>\n",
       "      <th>chromebook</th>\n",
       "      <th>laptop</th>\n",
       "      <th>notebook</th>\n",
       "    </tr>\n",
       "  </thead>\n",
       "  <tbody>\n",
       "    <tr>\n",
       "      <th>0</th>\n",
       "      <td>0</td>\n",
       "      <td>0</td>\n",
       "      <td>0</td>\n",
       "      <td>0</td>\n",
       "      <td>0</td>\n",
       "      <td>1</td>\n",
       "      <td>0</td>\n",
       "    </tr>\n",
       "    <tr>\n",
       "      <th>2</th>\n",
       "      <td>0</td>\n",
       "      <td>0</td>\n",
       "      <td>0</td>\n",
       "      <td>0</td>\n",
       "      <td>0</td>\n",
       "      <td>1</td>\n",
       "      <td>0</td>\n",
       "    </tr>\n",
       "    <tr>\n",
       "      <th>3</th>\n",
       "      <td>0</td>\n",
       "      <td>0</td>\n",
       "      <td>0</td>\n",
       "      <td>0</td>\n",
       "      <td>0</td>\n",
       "      <td>1</td>\n",
       "      <td>0</td>\n",
       "    </tr>\n",
       "    <tr>\n",
       "      <th>4</th>\n",
       "      <td>0</td>\n",
       "      <td>0</td>\n",
       "      <td>0</td>\n",
       "      <td>0</td>\n",
       "      <td>0</td>\n",
       "      <td>1</td>\n",
       "      <td>0</td>\n",
       "    </tr>\n",
       "    <tr>\n",
       "      <th>5</th>\n",
       "      <td>0</td>\n",
       "      <td>0</td>\n",
       "      <td>0</td>\n",
       "      <td>0</td>\n",
       "      <td>0</td>\n",
       "      <td>1</td>\n",
       "      <td>0</td>\n",
       "    </tr>\n",
       "    <tr>\n",
       "      <th>...</th>\n",
       "      <td>...</td>\n",
       "      <td>...</td>\n",
       "      <td>...</td>\n",
       "      <td>...</td>\n",
       "      <td>...</td>\n",
       "      <td>...</td>\n",
       "      <td>...</td>\n",
       "    </tr>\n",
       "    <tr>\n",
       "      <th>963</th>\n",
       "      <td>0</td>\n",
       "      <td>1</td>\n",
       "      <td>0</td>\n",
       "      <td>0</td>\n",
       "      <td>0</td>\n",
       "      <td>0</td>\n",
       "      <td>0</td>\n",
       "    </tr>\n",
       "    <tr>\n",
       "      <th>965</th>\n",
       "      <td>0</td>\n",
       "      <td>0</td>\n",
       "      <td>1</td>\n",
       "      <td>0</td>\n",
       "      <td>0</td>\n",
       "      <td>0</td>\n",
       "      <td>0</td>\n",
       "    </tr>\n",
       "    <tr>\n",
       "      <th>978</th>\n",
       "      <td>0</td>\n",
       "      <td>0</td>\n",
       "      <td>0</td>\n",
       "      <td>0</td>\n",
       "      <td>0</td>\n",
       "      <td>1</td>\n",
       "      <td>0</td>\n",
       "    </tr>\n",
       "    <tr>\n",
       "      <th>979</th>\n",
       "      <td>0</td>\n",
       "      <td>0</td>\n",
       "      <td>1</td>\n",
       "      <td>0</td>\n",
       "      <td>0</td>\n",
       "      <td>0</td>\n",
       "      <td>0</td>\n",
       "    </tr>\n",
       "    <tr>\n",
       "      <th>983</th>\n",
       "      <td>0</td>\n",
       "      <td>0</td>\n",
       "      <td>1</td>\n",
       "      <td>0</td>\n",
       "      <td>0</td>\n",
       "      <td>0</td>\n",
       "      <td>0</td>\n",
       "    </tr>\n",
       "  </tbody>\n",
       "</table>\n",
       "<p>482 rows × 7 columns</p>\n",
       "</div>"
      ],
      "text/plain": [
       "     2 in 1 gaming laptop  2 in 1 laptop  Gaming Laptop  business laptop  \\\n",
       "0                       0              0              0                0   \n",
       "2                       0              0              0                0   \n",
       "3                       0              0              0                0   \n",
       "4                       0              0              0                0   \n",
       "5                       0              0              0                0   \n",
       "..                    ...            ...            ...              ...   \n",
       "963                     0              1              0                0   \n",
       "965                     0              0              1                0   \n",
       "978                     0              0              0                0   \n",
       "979                     0              0              1                0   \n",
       "983                     0              0              1                0   \n",
       "\n",
       "     chromebook  laptop  notebook  \n",
       "0             0       1         0  \n",
       "2             0       1         0  \n",
       "3             0       1         0  \n",
       "4             0       1         0  \n",
       "5             0       1         0  \n",
       "..          ...     ...       ...  \n",
       "963           0       0         0  \n",
       "965           0       0         0  \n",
       "978           0       1         0  \n",
       "979           0       0         0  \n",
       "983           0       0         0  \n",
       "\n",
       "[482 rows x 7 columns]"
      ]
     },
     "execution_count": 109,
     "metadata": {},
     "output_type": "execute_result"
    }
   ],
   "source": [
    "#Type\n",
    "\n",
    "dummies_type= pd.get_dummies(df['Type'])\n",
    "dummies_type"
   ]
  },
  {
   "cell_type": "code",
   "execution_count": 110,
   "id": "a8aff553",
   "metadata": {},
   "outputs": [
    {
     "data": {
      "text/plain": [
       "laptop                  275\n",
       "Gaming Laptop           151\n",
       "2 in 1 laptop            23\n",
       "notebook                 12\n",
       "chromebook               10\n",
       "business laptop           6\n",
       "2 in 1 gaming laptop      5\n",
       "Name: Type, dtype: int64"
      ]
     },
     "execution_count": 110,
     "metadata": {},
     "output_type": "execute_result"
    }
   ],
   "source": [
    "df['Type'].value_counts()"
   ]
  },
  {
   "cell_type": "code",
   "execution_count": 111,
   "id": "36553a6e",
   "metadata": {},
   "outputs": [
    {
     "data": {
      "text/html": [
       "<div>\n",
       "<style scoped>\n",
       "    .dataframe tbody tr th:only-of-type {\n",
       "        vertical-align: middle;\n",
       "    }\n",
       "\n",
       "    .dataframe tbody tr th {\n",
       "        vertical-align: top;\n",
       "    }\n",
       "\n",
       "    .dataframe thead th {\n",
       "        text-align: right;\n",
       "    }\n",
       "</style>\n",
       "<table border=\"1\" class=\"dataframe\">\n",
       "  <thead>\n",
       "    <tr style=\"text-align: right;\">\n",
       "      <th></th>\n",
       "      <th>AMD Ryzen 5 Hexa Core</th>\n",
       "      <th>AMD Ryzen 7 Octa Core</th>\n",
       "      <th>Apple Processor</th>\n",
       "      <th>Intel Core i3 11th Gen</th>\n",
       "      <th>Intel Core i3 12th Gen</th>\n",
       "      <th>Intel Core i5 11th Gen</th>\n",
       "      <th>Intel Core i5 12th Gen</th>\n",
       "      <th>Intel Core i5 13th Gen</th>\n",
       "      <th>Intel Core i7 12th Gen</th>\n",
       "      <th>Mediatek Processor</th>\n",
       "      <th>Other AMD Processor</th>\n",
       "      <th>Other Intel Processor</th>\n",
       "    </tr>\n",
       "  </thead>\n",
       "  <tbody>\n",
       "    <tr>\n",
       "      <th>0</th>\n",
       "      <td>0</td>\n",
       "      <td>0</td>\n",
       "      <td>0</td>\n",
       "      <td>1</td>\n",
       "      <td>0</td>\n",
       "      <td>0</td>\n",
       "      <td>0</td>\n",
       "      <td>0</td>\n",
       "      <td>0</td>\n",
       "      <td>0</td>\n",
       "      <td>0</td>\n",
       "      <td>0</td>\n",
       "    </tr>\n",
       "    <tr>\n",
       "      <th>2</th>\n",
       "      <td>0</td>\n",
       "      <td>0</td>\n",
       "      <td>0</td>\n",
       "      <td>1</td>\n",
       "      <td>0</td>\n",
       "      <td>0</td>\n",
       "      <td>0</td>\n",
       "      <td>0</td>\n",
       "      <td>0</td>\n",
       "      <td>0</td>\n",
       "      <td>0</td>\n",
       "      <td>0</td>\n",
       "    </tr>\n",
       "    <tr>\n",
       "      <th>3</th>\n",
       "      <td>1</td>\n",
       "      <td>0</td>\n",
       "      <td>0</td>\n",
       "      <td>0</td>\n",
       "      <td>0</td>\n",
       "      <td>0</td>\n",
       "      <td>0</td>\n",
       "      <td>0</td>\n",
       "      <td>0</td>\n",
       "      <td>0</td>\n",
       "      <td>0</td>\n",
       "      <td>0</td>\n",
       "    </tr>\n",
       "    <tr>\n",
       "      <th>4</th>\n",
       "      <td>0</td>\n",
       "      <td>0</td>\n",
       "      <td>0</td>\n",
       "      <td>1</td>\n",
       "      <td>0</td>\n",
       "      <td>0</td>\n",
       "      <td>0</td>\n",
       "      <td>0</td>\n",
       "      <td>0</td>\n",
       "      <td>0</td>\n",
       "      <td>0</td>\n",
       "      <td>0</td>\n",
       "    </tr>\n",
       "    <tr>\n",
       "      <th>5</th>\n",
       "      <td>0</td>\n",
       "      <td>0</td>\n",
       "      <td>0</td>\n",
       "      <td>0</td>\n",
       "      <td>0</td>\n",
       "      <td>0</td>\n",
       "      <td>0</td>\n",
       "      <td>0</td>\n",
       "      <td>0</td>\n",
       "      <td>0</td>\n",
       "      <td>1</td>\n",
       "      <td>0</td>\n",
       "    </tr>\n",
       "    <tr>\n",
       "      <th>...</th>\n",
       "      <td>...</td>\n",
       "      <td>...</td>\n",
       "      <td>...</td>\n",
       "      <td>...</td>\n",
       "      <td>...</td>\n",
       "      <td>...</td>\n",
       "      <td>...</td>\n",
       "      <td>...</td>\n",
       "      <td>...</td>\n",
       "      <td>...</td>\n",
       "      <td>...</td>\n",
       "      <td>...</td>\n",
       "    </tr>\n",
       "    <tr>\n",
       "      <th>963</th>\n",
       "      <td>0</td>\n",
       "      <td>0</td>\n",
       "      <td>0</td>\n",
       "      <td>1</td>\n",
       "      <td>0</td>\n",
       "      <td>0</td>\n",
       "      <td>0</td>\n",
       "      <td>0</td>\n",
       "      <td>0</td>\n",
       "      <td>0</td>\n",
       "      <td>0</td>\n",
       "      <td>0</td>\n",
       "    </tr>\n",
       "    <tr>\n",
       "      <th>965</th>\n",
       "      <td>0</td>\n",
       "      <td>0</td>\n",
       "      <td>0</td>\n",
       "      <td>0</td>\n",
       "      <td>0</td>\n",
       "      <td>0</td>\n",
       "      <td>0</td>\n",
       "      <td>0</td>\n",
       "      <td>0</td>\n",
       "      <td>0</td>\n",
       "      <td>1</td>\n",
       "      <td>0</td>\n",
       "    </tr>\n",
       "    <tr>\n",
       "      <th>978</th>\n",
       "      <td>0</td>\n",
       "      <td>0</td>\n",
       "      <td>0</td>\n",
       "      <td>0</td>\n",
       "      <td>0</td>\n",
       "      <td>0</td>\n",
       "      <td>0</td>\n",
       "      <td>0</td>\n",
       "      <td>0</td>\n",
       "      <td>0</td>\n",
       "      <td>0</td>\n",
       "      <td>1</td>\n",
       "    </tr>\n",
       "    <tr>\n",
       "      <th>979</th>\n",
       "      <td>0</td>\n",
       "      <td>0</td>\n",
       "      <td>0</td>\n",
       "      <td>0</td>\n",
       "      <td>0</td>\n",
       "      <td>0</td>\n",
       "      <td>0</td>\n",
       "      <td>0</td>\n",
       "      <td>1</td>\n",
       "      <td>0</td>\n",
       "      <td>0</td>\n",
       "      <td>0</td>\n",
       "    </tr>\n",
       "    <tr>\n",
       "      <th>983</th>\n",
       "      <td>0</td>\n",
       "      <td>0</td>\n",
       "      <td>0</td>\n",
       "      <td>0</td>\n",
       "      <td>0</td>\n",
       "      <td>0</td>\n",
       "      <td>0</td>\n",
       "      <td>0</td>\n",
       "      <td>0</td>\n",
       "      <td>0</td>\n",
       "      <td>0</td>\n",
       "      <td>1</td>\n",
       "    </tr>\n",
       "  </tbody>\n",
       "</table>\n",
       "<p>482 rows × 12 columns</p>\n",
       "</div>"
      ],
      "text/plain": [
       "     AMD Ryzen 5 Hexa Core  AMD Ryzen 7 Octa Core  Apple Processor  \\\n",
       "0                        0                      0                0   \n",
       "2                        0                      0                0   \n",
       "3                        1                      0                0   \n",
       "4                        0                      0                0   \n",
       "5                        0                      0                0   \n",
       "..                     ...                    ...              ...   \n",
       "963                      0                      0                0   \n",
       "965                      0                      0                0   \n",
       "978                      0                      0                0   \n",
       "979                      0                      0                0   \n",
       "983                      0                      0                0   \n",
       "\n",
       "     Intel Core i3 11th Gen  Intel Core i3 12th Gen  Intel Core i5 11th Gen  \\\n",
       "0                         1                       0                       0   \n",
       "2                         1                       0                       0   \n",
       "3                         0                       0                       0   \n",
       "4                         1                       0                       0   \n",
       "5                         0                       0                       0   \n",
       "..                      ...                     ...                     ...   \n",
       "963                       1                       0                       0   \n",
       "965                       0                       0                       0   \n",
       "978                       0                       0                       0   \n",
       "979                       0                       0                       0   \n",
       "983                       0                       0                       0   \n",
       "\n",
       "     Intel Core i5 12th Gen  Intel Core i5 13th Gen  Intel Core i7 12th Gen  \\\n",
       "0                         0                       0                       0   \n",
       "2                         0                       0                       0   \n",
       "3                         0                       0                       0   \n",
       "4                         0                       0                       0   \n",
       "5                         0                       0                       0   \n",
       "..                      ...                     ...                     ...   \n",
       "963                       0                       0                       0   \n",
       "965                       0                       0                       0   \n",
       "978                       0                       0                       0   \n",
       "979                       0                       0                       1   \n",
       "983                       0                       0                       0   \n",
       "\n",
       "     Mediatek Processor  Other AMD Processor  Other Intel Processor  \n",
       "0                     0                    0                      0  \n",
       "2                     0                    0                      0  \n",
       "3                     0                    0                      0  \n",
       "4                     0                    0                      0  \n",
       "5                     0                    1                      0  \n",
       "..                  ...                  ...                    ...  \n",
       "963                   0                    0                      0  \n",
       "965                   0                    1                      0  \n",
       "978                   0                    0                      1  \n",
       "979                   0                    0                      0  \n",
       "983                   0                    0                      1  \n",
       "\n",
       "[482 rows x 12 columns]"
      ]
     },
     "execution_count": 111,
     "metadata": {},
     "output_type": "execute_result"
    }
   ],
   "source": [
    "#Processor Name\n",
    "\n",
    "dummies_Processor= pd.get_dummies(df['Processor Name'])\n",
    "dummies_Processor"
   ]
  },
  {
   "cell_type": "code",
   "execution_count": 112,
   "id": "34f1fd74",
   "metadata": {},
   "outputs": [
    {
     "data": {
      "text/plain": [
       "Other Intel Processor     109\n",
       "Intel Core i5 12th Gen     66\n",
       "AMD Ryzen 5 Hexa Core      50\n",
       "Other AMD Processor        49\n",
       "Intel Core i5 11th Gen     43\n",
       "Intel Core i3 11th Gen     39\n",
       "AMD Ryzen 7 Octa Core      39\n",
       "Intel Core i5 13th Gen     29\n",
       "Intel Core i7 12th Gen     24\n",
       "Intel Core i3 12th Gen     20\n",
       "Apple Processor            10\n",
       "Mediatek Processor          4\n",
       "Name: Processor Name, dtype: int64"
      ]
     },
     "execution_count": 112,
     "metadata": {},
     "output_type": "execute_result"
    }
   ],
   "source": [
    "df['Processor Name'].value_counts()"
   ]
  },
  {
   "cell_type": "code",
   "execution_count": 113,
   "id": "9743d63c",
   "metadata": {},
   "outputs": [
    {
     "data": {
      "text/html": [
       "<div>\n",
       "<style scoped>\n",
       "    .dataframe tbody tr th:only-of-type {\n",
       "        vertical-align: middle;\n",
       "    }\n",
       "\n",
       "    .dataframe tbody tr th {\n",
       "        vertical-align: top;\n",
       "    }\n",
       "\n",
       "    .dataframe thead th {\n",
       "        text-align: right;\n",
       "    }\n",
       "</style>\n",
       "<table border=\"1\" class=\"dataframe\">\n",
       "  <thead>\n",
       "    <tr style=\"text-align: right;\">\n",
       "      <th></th>\n",
       "      <th>MAC</th>\n",
       "      <th>Other</th>\n",
       "      <th>Windows</th>\n",
       "    </tr>\n",
       "  </thead>\n",
       "  <tbody>\n",
       "    <tr>\n",
       "      <th>0</th>\n",
       "      <td>0</td>\n",
       "      <td>0</td>\n",
       "      <td>1</td>\n",
       "    </tr>\n",
       "    <tr>\n",
       "      <th>2</th>\n",
       "      <td>0</td>\n",
       "      <td>0</td>\n",
       "      <td>1</td>\n",
       "    </tr>\n",
       "    <tr>\n",
       "      <th>3</th>\n",
       "      <td>0</td>\n",
       "      <td>0</td>\n",
       "      <td>1</td>\n",
       "    </tr>\n",
       "    <tr>\n",
       "      <th>4</th>\n",
       "      <td>0</td>\n",
       "      <td>0</td>\n",
       "      <td>1</td>\n",
       "    </tr>\n",
       "    <tr>\n",
       "      <th>5</th>\n",
       "      <td>0</td>\n",
       "      <td>0</td>\n",
       "      <td>1</td>\n",
       "    </tr>\n",
       "    <tr>\n",
       "      <th>...</th>\n",
       "      <td>...</td>\n",
       "      <td>...</td>\n",
       "      <td>...</td>\n",
       "    </tr>\n",
       "    <tr>\n",
       "      <th>963</th>\n",
       "      <td>0</td>\n",
       "      <td>0</td>\n",
       "      <td>1</td>\n",
       "    </tr>\n",
       "    <tr>\n",
       "      <th>965</th>\n",
       "      <td>0</td>\n",
       "      <td>0</td>\n",
       "      <td>1</td>\n",
       "    </tr>\n",
       "    <tr>\n",
       "      <th>978</th>\n",
       "      <td>0</td>\n",
       "      <td>0</td>\n",
       "      <td>1</td>\n",
       "    </tr>\n",
       "    <tr>\n",
       "      <th>979</th>\n",
       "      <td>0</td>\n",
       "      <td>0</td>\n",
       "      <td>1</td>\n",
       "    </tr>\n",
       "    <tr>\n",
       "      <th>983</th>\n",
       "      <td>0</td>\n",
       "      <td>0</td>\n",
       "      <td>1</td>\n",
       "    </tr>\n",
       "  </tbody>\n",
       "</table>\n",
       "<p>482 rows × 3 columns</p>\n",
       "</div>"
      ],
      "text/plain": [
       "     MAC  Other  Windows\n",
       "0      0      0        1\n",
       "2      0      0        1\n",
       "3      0      0        1\n",
       "4      0      0        1\n",
       "5      0      0        1\n",
       "..   ...    ...      ...\n",
       "963    0      0        1\n",
       "965    0      0        1\n",
       "978    0      0        1\n",
       "979    0      0        1\n",
       "983    0      0        1\n",
       "\n",
       "[482 rows x 3 columns]"
      ]
     },
     "execution_count": 113,
     "metadata": {},
     "output_type": "execute_result"
    }
   ],
   "source": [
    "dummies_osys=pd.get_dummies(df['Osys'])\n",
    "dummies_osys"
   ]
  },
  {
   "cell_type": "code",
   "execution_count": 114,
   "id": "755a1d75",
   "metadata": {},
   "outputs": [
    {
     "data": {
      "text/plain": [
       "Windows    450\n",
       "Other       22\n",
       "MAC         10\n",
       "Name: Osys, dtype: int64"
      ]
     },
     "execution_count": 114,
     "metadata": {},
     "output_type": "execute_result"
    }
   ],
   "source": [
    "df['Osys'].value_counts()"
   ]
  },
  {
   "cell_type": "code",
   "execution_count": 115,
   "id": "562c949a",
   "metadata": {},
   "outputs": [],
   "source": [
    "##Merging DataFrame"
   ]
  },
  {
   "cell_type": "code",
   "execution_count": 116,
   "id": "eb148907",
   "metadata": {},
   "outputs": [],
   "source": [
    "merged_df = pd.concat([df,dummies_laptop_company,dummies_type,dummies_Processor,dummies_osys], axis='columns')"
   ]
  },
  {
   "cell_type": "code",
   "execution_count": 117,
   "id": "70f3e49e",
   "metadata": {},
   "outputs": [
    {
     "name": "stdout",
     "output_type": "stream",
     "text": [
      "<class 'pandas.core.frame.DataFrame'>\n",
      "Int64Index: 482 entries, 0 to 983\n",
      "Data columns (total 49 columns):\n",
      " #   Column                  Non-Null Count  Dtype  \n",
      "---  ------                  --------------  -----  \n",
      " 0   Company                 482 non-null    object \n",
      " 1   Type                    482 non-null    object \n",
      " 2   RAM                     482 non-null    int64  \n",
      " 3   Processor Name          482 non-null    object \n",
      " 4   Osys                    482 non-null    object \n",
      " 5   TouchScreen             482 non-null    int64  \n",
      " 6   Graphic Card            482 non-null    int64  \n",
      " 7   KGs                     482 non-null    float64\n",
      " 8   Price                   482 non-null    int64  \n",
      " 9   ppi                     482 non-null    float64\n",
      " 10  HDD                     482 non-null    int64  \n",
      " 11  SSD                     482 non-null    int64  \n",
      " 12  EMMC STORAGE            482 non-null    int64  \n",
      " 13  APPLE                   482 non-null    uint8  \n",
      " 14  ASUS                    482 non-null    uint8  \n",
      " 15  Acer                    482 non-null    uint8  \n",
      " 16  CHUWI                   482 non-null    uint8  \n",
      " 17  DELL                    482 non-null    uint8  \n",
      " 18  GIGABYTE                482 non-null    uint8  \n",
      " 19  HP                      482 non-null    uint8  \n",
      " 20  Infinix                 482 non-null    uint8  \n",
      " 21  Lenovo                  482 non-null    uint8  \n",
      " 22  MSI                     482 non-null    uint8  \n",
      " 23  Mi                      482 non-null    uint8  \n",
      " 24  Primebook               482 non-null    uint8  \n",
      " 25  SAMSUNG                 482 non-null    uint8  \n",
      " 26  realme                  482 non-null    uint8  \n",
      " 27  2 in 1 gaming laptop    482 non-null    uint8  \n",
      " 28  2 in 1 laptop           482 non-null    uint8  \n",
      " 29  Gaming Laptop           482 non-null    uint8  \n",
      " 30  business laptop         482 non-null    uint8  \n",
      " 31  chromebook              482 non-null    uint8  \n",
      " 32  laptop                  482 non-null    uint8  \n",
      " 33  notebook                482 non-null    uint8  \n",
      " 34  AMD Ryzen 5 Hexa Core   482 non-null    uint8  \n",
      " 35  AMD Ryzen 7 Octa Core   482 non-null    uint8  \n",
      " 36  Apple Processor         482 non-null    uint8  \n",
      " 37  Intel Core i3 11th Gen  482 non-null    uint8  \n",
      " 38  Intel Core i3 12th Gen  482 non-null    uint8  \n",
      " 39  Intel Core i5 11th Gen  482 non-null    uint8  \n",
      " 40  Intel Core i5 12th Gen  482 non-null    uint8  \n",
      " 41  Intel Core i5 13th Gen  482 non-null    uint8  \n",
      " 42  Intel Core i7 12th Gen  482 non-null    uint8  \n",
      " 43  Mediatek Processor      482 non-null    uint8  \n",
      " 44  Other AMD Processor     482 non-null    uint8  \n",
      " 45  Other Intel Processor   482 non-null    uint8  \n",
      " 46  MAC                     482 non-null    uint8  \n",
      " 47  Other                   482 non-null    uint8  \n",
      " 48  Windows                 482 non-null    uint8  \n",
      "dtypes: float64(2), int64(7), object(4), uint8(36)\n",
      "memory usage: 69.7+ KB\n"
     ]
    }
   ],
   "source": [
    "merged_df.info()"
   ]
  },
  {
   "cell_type": "code",
   "execution_count": 118,
   "id": "f99adc20",
   "metadata": {},
   "outputs": [],
   "source": [
    "##Dropping Categorical Columns :"
   ]
  },
  {
   "cell_type": "code",
   "execution_count": 119,
   "id": "06fe1004",
   "metadata": {},
   "outputs": [],
   "source": [
    "merged_df.drop(columns=['Company','Type','Osys','Processor Name'], inplace=True)"
   ]
  },
  {
   "cell_type": "code",
   "execution_count": 120,
   "id": "96261aad",
   "metadata": {},
   "outputs": [
    {
     "name": "stdout",
     "output_type": "stream",
     "text": [
      "<class 'pandas.core.frame.DataFrame'>\n",
      "Int64Index: 482 entries, 0 to 983\n",
      "Data columns (total 45 columns):\n",
      " #   Column                  Non-Null Count  Dtype  \n",
      "---  ------                  --------------  -----  \n",
      " 0   RAM                     482 non-null    int64  \n",
      " 1   TouchScreen             482 non-null    int64  \n",
      " 2   Graphic Card            482 non-null    int64  \n",
      " 3   KGs                     482 non-null    float64\n",
      " 4   Price                   482 non-null    int64  \n",
      " 5   ppi                     482 non-null    float64\n",
      " 6   HDD                     482 non-null    int64  \n",
      " 7   SSD                     482 non-null    int64  \n",
      " 8   EMMC STORAGE            482 non-null    int64  \n",
      " 9   APPLE                   482 non-null    uint8  \n",
      " 10  ASUS                    482 non-null    uint8  \n",
      " 11  Acer                    482 non-null    uint8  \n",
      " 12  CHUWI                   482 non-null    uint8  \n",
      " 13  DELL                    482 non-null    uint8  \n",
      " 14  GIGABYTE                482 non-null    uint8  \n",
      " 15  HP                      482 non-null    uint8  \n",
      " 16  Infinix                 482 non-null    uint8  \n",
      " 17  Lenovo                  482 non-null    uint8  \n",
      " 18  MSI                     482 non-null    uint8  \n",
      " 19  Mi                      482 non-null    uint8  \n",
      " 20  Primebook               482 non-null    uint8  \n",
      " 21  SAMSUNG                 482 non-null    uint8  \n",
      " 22  realme                  482 non-null    uint8  \n",
      " 23  2 in 1 gaming laptop    482 non-null    uint8  \n",
      " 24  2 in 1 laptop           482 non-null    uint8  \n",
      " 25  Gaming Laptop           482 non-null    uint8  \n",
      " 26  business laptop         482 non-null    uint8  \n",
      " 27  chromebook              482 non-null    uint8  \n",
      " 28  laptop                  482 non-null    uint8  \n",
      " 29  notebook                482 non-null    uint8  \n",
      " 30  AMD Ryzen 5 Hexa Core   482 non-null    uint8  \n",
      " 31  AMD Ryzen 7 Octa Core   482 non-null    uint8  \n",
      " 32  Apple Processor         482 non-null    uint8  \n",
      " 33  Intel Core i3 11th Gen  482 non-null    uint8  \n",
      " 34  Intel Core i3 12th Gen  482 non-null    uint8  \n",
      " 35  Intel Core i5 11th Gen  482 non-null    uint8  \n",
      " 36  Intel Core i5 12th Gen  482 non-null    uint8  \n",
      " 37  Intel Core i5 13th Gen  482 non-null    uint8  \n",
      " 38  Intel Core i7 12th Gen  482 non-null    uint8  \n",
      " 39  Mediatek Processor      482 non-null    uint8  \n",
      " 40  Other AMD Processor     482 non-null    uint8  \n",
      " 41  Other Intel Processor   482 non-null    uint8  \n",
      " 42  MAC                     482 non-null    uint8  \n",
      " 43  Other                   482 non-null    uint8  \n",
      " 44  Windows                 482 non-null    uint8  \n",
      "dtypes: float64(2), int64(7), uint8(36)\n",
      "memory usage: 54.6 KB\n"
     ]
    }
   ],
   "source": [
    "merged_df.info()"
   ]
  },
  {
   "cell_type": "code",
   "execution_count": 121,
   "id": "c5c221a9",
   "metadata": {},
   "outputs": [
    {
     "data": {
      "text/html": [
       "<div>\n",
       "<style scoped>\n",
       "    .dataframe tbody tr th:only-of-type {\n",
       "        vertical-align: middle;\n",
       "    }\n",
       "\n",
       "    .dataframe tbody tr th {\n",
       "        vertical-align: top;\n",
       "    }\n",
       "\n",
       "    .dataframe thead th {\n",
       "        text-align: right;\n",
       "    }\n",
       "</style>\n",
       "<table border=\"1\" class=\"dataframe\">\n",
       "  <thead>\n",
       "    <tr style=\"text-align: right;\">\n",
       "      <th></th>\n",
       "      <th>RAM</th>\n",
       "      <th>TouchScreen</th>\n",
       "      <th>Graphic Card</th>\n",
       "      <th>KGs</th>\n",
       "      <th>Price</th>\n",
       "      <th>ppi</th>\n",
       "      <th>HDD</th>\n",
       "      <th>SSD</th>\n",
       "      <th>EMMC STORAGE</th>\n",
       "      <th>APPLE</th>\n",
       "      <th>...</th>\n",
       "      <th>Intel Core i5 11th Gen</th>\n",
       "      <th>Intel Core i5 12th Gen</th>\n",
       "      <th>Intel Core i5 13th Gen</th>\n",
       "      <th>Intel Core i7 12th Gen</th>\n",
       "      <th>Mediatek Processor</th>\n",
       "      <th>Other AMD Processor</th>\n",
       "      <th>Other Intel Processor</th>\n",
       "      <th>MAC</th>\n",
       "      <th>Other</th>\n",
       "      <th>Windows</th>\n",
       "    </tr>\n",
       "  </thead>\n",
       "  <tbody>\n",
       "    <tr>\n",
       "      <th>0</th>\n",
       "      <td>8</td>\n",
       "      <td>0</td>\n",
       "      <td>0</td>\n",
       "      <td>1.80</td>\n",
       "      <td>34990</td>\n",
       "      <td>141.211998</td>\n",
       "      <td>0</td>\n",
       "      <td>256</td>\n",
       "      <td>0</td>\n",
       "      <td>0</td>\n",
       "      <td>...</td>\n",
       "      <td>0</td>\n",
       "      <td>0</td>\n",
       "      <td>0</td>\n",
       "      <td>0</td>\n",
       "      <td>0</td>\n",
       "      <td>0</td>\n",
       "      <td>0</td>\n",
       "      <td>0</td>\n",
       "      <td>0</td>\n",
       "      <td>1</td>\n",
       "    </tr>\n",
       "    <tr>\n",
       "      <th>2</th>\n",
       "      <td>8</td>\n",
       "      <td>0</td>\n",
       "      <td>0</td>\n",
       "      <td>1.80</td>\n",
       "      <td>35990</td>\n",
       "      <td>148.845079</td>\n",
       "      <td>0</td>\n",
       "      <td>512</td>\n",
       "      <td>0</td>\n",
       "      <td>0</td>\n",
       "      <td>...</td>\n",
       "      <td>0</td>\n",
       "      <td>0</td>\n",
       "      <td>0</td>\n",
       "      <td>0</td>\n",
       "      <td>0</td>\n",
       "      <td>0</td>\n",
       "      <td>0</td>\n",
       "      <td>0</td>\n",
       "      <td>0</td>\n",
       "      <td>1</td>\n",
       "    </tr>\n",
       "    <tr>\n",
       "      <th>3</th>\n",
       "      <td>8</td>\n",
       "      <td>0</td>\n",
       "      <td>0</td>\n",
       "      <td>1.65</td>\n",
       "      <td>48450</td>\n",
       "      <td>154.049452</td>\n",
       "      <td>0</td>\n",
       "      <td>512</td>\n",
       "      <td>0</td>\n",
       "      <td>0</td>\n",
       "      <td>...</td>\n",
       "      <td>0</td>\n",
       "      <td>0</td>\n",
       "      <td>0</td>\n",
       "      <td>0</td>\n",
       "      <td>0</td>\n",
       "      <td>0</td>\n",
       "      <td>0</td>\n",
       "      <td>0</td>\n",
       "      <td>0</td>\n",
       "      <td>1</td>\n",
       "    </tr>\n",
       "    <tr>\n",
       "      <th>4</th>\n",
       "      <td>8</td>\n",
       "      <td>0</td>\n",
       "      <td>0</td>\n",
       "      <td>1.69</td>\n",
       "      <td>38990</td>\n",
       "      <td>141.211998</td>\n",
       "      <td>0</td>\n",
       "      <td>512</td>\n",
       "      <td>0</td>\n",
       "      <td>0</td>\n",
       "      <td>...</td>\n",
       "      <td>0</td>\n",
       "      <td>0</td>\n",
       "      <td>0</td>\n",
       "      <td>0</td>\n",
       "      <td>0</td>\n",
       "      <td>0</td>\n",
       "      <td>0</td>\n",
       "      <td>0</td>\n",
       "      <td>0</td>\n",
       "      <td>1</td>\n",
       "    </tr>\n",
       "    <tr>\n",
       "      <th>5</th>\n",
       "      <td>8</td>\n",
       "      <td>0</td>\n",
       "      <td>0</td>\n",
       "      <td>1.46</td>\n",
       "      <td>37880</td>\n",
       "      <td>157.350512</td>\n",
       "      <td>0</td>\n",
       "      <td>512</td>\n",
       "      <td>0</td>\n",
       "      <td>0</td>\n",
       "      <td>...</td>\n",
       "      <td>0</td>\n",
       "      <td>0</td>\n",
       "      <td>0</td>\n",
       "      <td>0</td>\n",
       "      <td>0</td>\n",
       "      <td>1</td>\n",
       "      <td>0</td>\n",
       "      <td>0</td>\n",
       "      <td>0</td>\n",
       "      <td>1</td>\n",
       "    </tr>\n",
       "  </tbody>\n",
       "</table>\n",
       "<p>5 rows × 45 columns</p>\n",
       "</div>"
      ],
      "text/plain": [
       "   RAM  TouchScreen  Graphic Card   KGs  Price         ppi  HDD  SSD  \\\n",
       "0    8            0             0  1.80  34990  141.211998    0  256   \n",
       "2    8            0             0  1.80  35990  148.845079    0  512   \n",
       "3    8            0             0  1.65  48450  154.049452    0  512   \n",
       "4    8            0             0  1.69  38990  141.211998    0  512   \n",
       "5    8            0             0  1.46  37880  157.350512    0  512   \n",
       "\n",
       "   EMMC STORAGE  APPLE  ...  Intel Core i5 11th Gen  Intel Core i5 12th Gen  \\\n",
       "0             0      0  ...                       0                       0   \n",
       "2             0      0  ...                       0                       0   \n",
       "3             0      0  ...                       0                       0   \n",
       "4             0      0  ...                       0                       0   \n",
       "5             0      0  ...                       0                       0   \n",
       "\n",
       "   Intel Core i5 13th Gen  Intel Core i7 12th Gen  Mediatek Processor  \\\n",
       "0                       0                       0                   0   \n",
       "2                       0                       0                   0   \n",
       "3                       0                       0                   0   \n",
       "4                       0                       0                   0   \n",
       "5                       0                       0                   0   \n",
       "\n",
       "   Other AMD Processor  Other Intel Processor  MAC  Other  Windows  \n",
       "0                    0                      0    0      0        1  \n",
       "2                    0                      0    0      0        1  \n",
       "3                    0                      0    0      0        1  \n",
       "4                    0                      0    0      0        1  \n",
       "5                    1                      0    0      0        1  \n",
       "\n",
       "[5 rows x 45 columns]"
      ]
     },
     "execution_count": 121,
     "metadata": {},
     "output_type": "execute_result"
    }
   ],
   "source": [
    "merged_df.head()"
   ]
  },
  {
   "cell_type": "code",
   "execution_count": 1,
   "id": "81d28d5c",
   "metadata": {},
   "outputs": [],
   "source": [
    "from sklearn.model_selection import train_test_split\n",
    "from sklearn.metrics import r2_score,mean_absolute_error,mean_squared_error\n",
    "from sklearn.linear_model import LinearRegression"
   ]
  },
  {
   "cell_type": "code",
   "execution_count": 2,
   "id": "e1acf619",
   "metadata": {},
   "outputs": [],
   "source": [
    "# Seperating Dependent and Independent Variables : "
   ]
  },
  {
   "cell_type": "code",
   "execution_count": 3,
   "id": "07ec47d4",
   "metadata": {},
   "outputs": [],
   "source": [
    "# Before log transformation of 'PRICE"
   ]
  },
  {
   "cell_type": "code",
   "execution_count": 4,
   "id": "7ebcbc39",
   "metadata": {},
   "outputs": [
    {
     "ename": "NameError",
     "evalue": "name 'merged_df' is not defined",
     "output_type": "error",
     "traceback": [
      "\u001b[1;31m---------------------------------------------------------------------------\u001b[0m",
      "\u001b[1;31mNameError\u001b[0m                                 Traceback (most recent call last)",
      "Cell \u001b[1;32mIn[4], line 2\u001b[0m\n\u001b[0;32m      1\u001b[0m \u001b[38;5;66;03m#Independent variables\u001b[39;00m\n\u001b[1;32m----> 2\u001b[0m x\u001b[38;5;241m=\u001b[39m\u001b[43mmerged_df\u001b[49m\u001b[38;5;241m.\u001b[39mdrop(columns\u001b[38;5;241m=\u001b[39m[\u001b[38;5;124m'\u001b[39m\u001b[38;5;124mPrice\u001b[39m\u001b[38;5;124m'\u001b[39m])\n\u001b[0;32m      5\u001b[0m \u001b[38;5;66;03m#Dependent variable\u001b[39;00m\n\u001b[0;32m      6\u001b[0m y\u001b[38;5;241m=\u001b[39mmerged_df[\u001b[38;5;124m'\u001b[39m\u001b[38;5;124mPrice\u001b[39m\u001b[38;5;124m'\u001b[39m]\n",
      "\u001b[1;31mNameError\u001b[0m: name 'merged_df' is not defined"
     ]
    }
   ],
   "source": [
    "#Independent variables\n",
    "x=merged_df.drop(columns=['Price'])\n",
    "\n",
    "\n",
    "#Dependent variable\n",
    "y=merged_df['Price']\n"
   ]
  },
  {
   "cell_type": "code",
   "execution_count": null,
   "id": "99af983b",
   "metadata": {},
   "outputs": [],
   "source": [
    "#Splitting of data\n",
    "x_train,x_test,y_train,y_test=train_test_split(x,y,test_size=0.25,random_state=2)\n"
   ]
  },
  {
   "cell_type": "code",
   "execution_count": 127,
   "id": "cbcf9148",
   "metadata": {},
   "outputs": [],
   "source": [
    "# Linear regression :\n",
    "  \n",
    "reg = LinearRegression()"
   ]
  },
  {
   "cell_type": "code",
   "execution_count": 128,
   "id": "aa8ea506",
   "metadata": {},
   "outputs": [
    {
     "data": {
      "text/html": [
       "<style>#sk-container-id-1 {color: black;background-color: white;}#sk-container-id-1 pre{padding: 0;}#sk-container-id-1 div.sk-toggleable {background-color: white;}#sk-container-id-1 label.sk-toggleable__label {cursor: pointer;display: block;width: 100%;margin-bottom: 0;padding: 0.3em;box-sizing: border-box;text-align: center;}#sk-container-id-1 label.sk-toggleable__label-arrow:before {content: \"▸\";float: left;margin-right: 0.25em;color: #696969;}#sk-container-id-1 label.sk-toggleable__label-arrow:hover:before {color: black;}#sk-container-id-1 div.sk-estimator:hover label.sk-toggleable__label-arrow:before {color: black;}#sk-container-id-1 div.sk-toggleable__content {max-height: 0;max-width: 0;overflow: hidden;text-align: left;background-color: #f0f8ff;}#sk-container-id-1 div.sk-toggleable__content pre {margin: 0.2em;color: black;border-radius: 0.25em;background-color: #f0f8ff;}#sk-container-id-1 input.sk-toggleable__control:checked~div.sk-toggleable__content {max-height: 200px;max-width: 100%;overflow: auto;}#sk-container-id-1 input.sk-toggleable__control:checked~label.sk-toggleable__label-arrow:before {content: \"▾\";}#sk-container-id-1 div.sk-estimator input.sk-toggleable__control:checked~label.sk-toggleable__label {background-color: #d4ebff;}#sk-container-id-1 div.sk-label input.sk-toggleable__control:checked~label.sk-toggleable__label {background-color: #d4ebff;}#sk-container-id-1 input.sk-hidden--visually {border: 0;clip: rect(1px 1px 1px 1px);clip: rect(1px, 1px, 1px, 1px);height: 1px;margin: -1px;overflow: hidden;padding: 0;position: absolute;width: 1px;}#sk-container-id-1 div.sk-estimator {font-family: monospace;background-color: #f0f8ff;border: 1px dotted black;border-radius: 0.25em;box-sizing: border-box;margin-bottom: 0.5em;}#sk-container-id-1 div.sk-estimator:hover {background-color: #d4ebff;}#sk-container-id-1 div.sk-parallel-item::after {content: \"\";width: 100%;border-bottom: 1px solid gray;flex-grow: 1;}#sk-container-id-1 div.sk-label:hover label.sk-toggleable__label {background-color: #d4ebff;}#sk-container-id-1 div.sk-serial::before {content: \"\";position: absolute;border-left: 1px solid gray;box-sizing: border-box;top: 0;bottom: 0;left: 50%;z-index: 0;}#sk-container-id-1 div.sk-serial {display: flex;flex-direction: column;align-items: center;background-color: white;padding-right: 0.2em;padding-left: 0.2em;position: relative;}#sk-container-id-1 div.sk-item {position: relative;z-index: 1;}#sk-container-id-1 div.sk-parallel {display: flex;align-items: stretch;justify-content: center;background-color: white;position: relative;}#sk-container-id-1 div.sk-item::before, #sk-container-id-1 div.sk-parallel-item::before {content: \"\";position: absolute;border-left: 1px solid gray;box-sizing: border-box;top: 0;bottom: 0;left: 50%;z-index: -1;}#sk-container-id-1 div.sk-parallel-item {display: flex;flex-direction: column;z-index: 1;position: relative;background-color: white;}#sk-container-id-1 div.sk-parallel-item:first-child::after {align-self: flex-end;width: 50%;}#sk-container-id-1 div.sk-parallel-item:last-child::after {align-self: flex-start;width: 50%;}#sk-container-id-1 div.sk-parallel-item:only-child::after {width: 0;}#sk-container-id-1 div.sk-dashed-wrapped {border: 1px dashed gray;margin: 0 0.4em 0.5em 0.4em;box-sizing: border-box;padding-bottom: 0.4em;background-color: white;}#sk-container-id-1 div.sk-label label {font-family: monospace;font-weight: bold;display: inline-block;line-height: 1.2em;}#sk-container-id-1 div.sk-label-container {text-align: center;}#sk-container-id-1 div.sk-container {/* jupyter's `normalize.less` sets `[hidden] { display: none; }` but bootstrap.min.css set `[hidden] { display: none !important; }` so we also need the `!important` here to be able to override the default hidden behavior on the sphinx rendered scikit-learn.org. See: https://github.com/scikit-learn/scikit-learn/issues/21755 */display: inline-block !important;position: relative;}#sk-container-id-1 div.sk-text-repr-fallback {display: none;}</style><div id=\"sk-container-id-1\" class=\"sk-top-container\"><div class=\"sk-text-repr-fallback\"><pre>LinearRegression()</pre><b>In a Jupyter environment, please rerun this cell to show the HTML representation or trust the notebook. <br />On GitHub, the HTML representation is unable to render, please try loading this page with nbviewer.org.</b></div><div class=\"sk-container\" hidden><div class=\"sk-item\"><div class=\"sk-estimator sk-toggleable\"><input class=\"sk-toggleable__control sk-hidden--visually\" id=\"sk-estimator-id-1\" type=\"checkbox\" checked><label for=\"sk-estimator-id-1\" class=\"sk-toggleable__label sk-toggleable__label-arrow\">LinearRegression</label><div class=\"sk-toggleable__content\"><pre>LinearRegression()</pre></div></div></div></div></div>"
      ],
      "text/plain": [
       "LinearRegression()"
      ]
     },
     "execution_count": 128,
     "metadata": {},
     "output_type": "execute_result"
    }
   ],
   "source": [
    "reg"
   ]
  },
  {
   "cell_type": "code",
   "execution_count": 129,
   "id": "6201980d",
   "metadata": {},
   "outputs": [
    {
     "data": {
      "text/html": [
       "<style>#sk-container-id-2 {color: black;background-color: white;}#sk-container-id-2 pre{padding: 0;}#sk-container-id-2 div.sk-toggleable {background-color: white;}#sk-container-id-2 label.sk-toggleable__label {cursor: pointer;display: block;width: 100%;margin-bottom: 0;padding: 0.3em;box-sizing: border-box;text-align: center;}#sk-container-id-2 label.sk-toggleable__label-arrow:before {content: \"▸\";float: left;margin-right: 0.25em;color: #696969;}#sk-container-id-2 label.sk-toggleable__label-arrow:hover:before {color: black;}#sk-container-id-2 div.sk-estimator:hover label.sk-toggleable__label-arrow:before {color: black;}#sk-container-id-2 div.sk-toggleable__content {max-height: 0;max-width: 0;overflow: hidden;text-align: left;background-color: #f0f8ff;}#sk-container-id-2 div.sk-toggleable__content pre {margin: 0.2em;color: black;border-radius: 0.25em;background-color: #f0f8ff;}#sk-container-id-2 input.sk-toggleable__control:checked~div.sk-toggleable__content {max-height: 200px;max-width: 100%;overflow: auto;}#sk-container-id-2 input.sk-toggleable__control:checked~label.sk-toggleable__label-arrow:before {content: \"▾\";}#sk-container-id-2 div.sk-estimator input.sk-toggleable__control:checked~label.sk-toggleable__label {background-color: #d4ebff;}#sk-container-id-2 div.sk-label input.sk-toggleable__control:checked~label.sk-toggleable__label {background-color: #d4ebff;}#sk-container-id-2 input.sk-hidden--visually {border: 0;clip: rect(1px 1px 1px 1px);clip: rect(1px, 1px, 1px, 1px);height: 1px;margin: -1px;overflow: hidden;padding: 0;position: absolute;width: 1px;}#sk-container-id-2 div.sk-estimator {font-family: monospace;background-color: #f0f8ff;border: 1px dotted black;border-radius: 0.25em;box-sizing: border-box;margin-bottom: 0.5em;}#sk-container-id-2 div.sk-estimator:hover {background-color: #d4ebff;}#sk-container-id-2 div.sk-parallel-item::after {content: \"\";width: 100%;border-bottom: 1px solid gray;flex-grow: 1;}#sk-container-id-2 div.sk-label:hover label.sk-toggleable__label {background-color: #d4ebff;}#sk-container-id-2 div.sk-serial::before {content: \"\";position: absolute;border-left: 1px solid gray;box-sizing: border-box;top: 0;bottom: 0;left: 50%;z-index: 0;}#sk-container-id-2 div.sk-serial {display: flex;flex-direction: column;align-items: center;background-color: white;padding-right: 0.2em;padding-left: 0.2em;position: relative;}#sk-container-id-2 div.sk-item {position: relative;z-index: 1;}#sk-container-id-2 div.sk-parallel {display: flex;align-items: stretch;justify-content: center;background-color: white;position: relative;}#sk-container-id-2 div.sk-item::before, #sk-container-id-2 div.sk-parallel-item::before {content: \"\";position: absolute;border-left: 1px solid gray;box-sizing: border-box;top: 0;bottom: 0;left: 50%;z-index: -1;}#sk-container-id-2 div.sk-parallel-item {display: flex;flex-direction: column;z-index: 1;position: relative;background-color: white;}#sk-container-id-2 div.sk-parallel-item:first-child::after {align-self: flex-end;width: 50%;}#sk-container-id-2 div.sk-parallel-item:last-child::after {align-self: flex-start;width: 50%;}#sk-container-id-2 div.sk-parallel-item:only-child::after {width: 0;}#sk-container-id-2 div.sk-dashed-wrapped {border: 1px dashed gray;margin: 0 0.4em 0.5em 0.4em;box-sizing: border-box;padding-bottom: 0.4em;background-color: white;}#sk-container-id-2 div.sk-label label {font-family: monospace;font-weight: bold;display: inline-block;line-height: 1.2em;}#sk-container-id-2 div.sk-label-container {text-align: center;}#sk-container-id-2 div.sk-container {/* jupyter's `normalize.less` sets `[hidden] { display: none; }` but bootstrap.min.css set `[hidden] { display: none !important; }` so we also need the `!important` here to be able to override the default hidden behavior on the sphinx rendered scikit-learn.org. See: https://github.com/scikit-learn/scikit-learn/issues/21755 */display: inline-block !important;position: relative;}#sk-container-id-2 div.sk-text-repr-fallback {display: none;}</style><div id=\"sk-container-id-2\" class=\"sk-top-container\"><div class=\"sk-text-repr-fallback\"><pre>LinearRegression()</pre><b>In a Jupyter environment, please rerun this cell to show the HTML representation or trust the notebook. <br />On GitHub, the HTML representation is unable to render, please try loading this page with nbviewer.org.</b></div><div class=\"sk-container\" hidden><div class=\"sk-item\"><div class=\"sk-estimator sk-toggleable\"><input class=\"sk-toggleable__control sk-hidden--visually\" id=\"sk-estimator-id-2\" type=\"checkbox\" checked><label for=\"sk-estimator-id-2\" class=\"sk-toggleable__label sk-toggleable__label-arrow\">LinearRegression</label><div class=\"sk-toggleable__content\"><pre>LinearRegression()</pre></div></div></div></div></div>"
      ],
      "text/plain": [
       "LinearRegression()"
      ]
     },
     "execution_count": 129,
     "metadata": {},
     "output_type": "execute_result"
    }
   ],
   "source": [
    "reg.fit(x_train,y_train)"
   ]
  },
  {
   "cell_type": "code",
   "execution_count": 130,
   "id": "249124d9",
   "metadata": {},
   "outputs": [],
   "source": [
    "y_pred_train=reg.predict(x_train)"
   ]
  },
  {
   "cell_type": "code",
   "execution_count": 131,
   "id": "a0b2f624",
   "metadata": {},
   "outputs": [
    {
     "data": {
      "text/plain": [
       "0.7852726074990284"
      ]
     },
     "execution_count": 131,
     "metadata": {},
     "output_type": "execute_result"
    }
   ],
   "source": [
    "r2_score(y_train,y_pred_train)"
   ]
  },
  {
   "cell_type": "code",
   "execution_count": 132,
   "id": "5f428de2",
   "metadata": {},
   "outputs": [
    {
     "data": {
      "text/plain": [
       "17534.50466580056"
      ]
     },
     "execution_count": 132,
     "metadata": {},
     "output_type": "execute_result"
    }
   ],
   "source": [
    "mean_absolute_error(y_train,y_pred_train)"
   ]
  },
  {
   "cell_type": "code",
   "execution_count": 133,
   "id": "02823061",
   "metadata": {},
   "outputs": [
    {
     "data": {
      "text/plain": [
       "728697170.4546542"
      ]
     },
     "execution_count": 133,
     "metadata": {},
     "output_type": "execute_result"
    }
   ],
   "source": [
    "mean_squared_error(y_train,y_pred_train)"
   ]
  },
  {
   "cell_type": "code",
   "execution_count": 134,
   "id": "00b0d87c",
   "metadata": {},
   "outputs": [],
   "source": [
    "y_pred_test=reg.predict(x_test)"
   ]
  },
  {
   "cell_type": "code",
   "execution_count": 135,
   "id": "e8cb4e1b",
   "metadata": {},
   "outputs": [
    {
     "data": {
      "text/plain": [
       "0.7424798460111458"
      ]
     },
     "execution_count": 135,
     "metadata": {},
     "output_type": "execute_result"
    }
   ],
   "source": [
    "r2_score(y_test,y_pred_test)"
   ]
  },
  {
   "cell_type": "code",
   "execution_count": 136,
   "id": "26dd688b",
   "metadata": {},
   "outputs": [
    {
     "data": {
      "text/plain": [
       "16523.36457975522"
      ]
     },
     "execution_count": 136,
     "metadata": {},
     "output_type": "execute_result"
    }
   ],
   "source": [
    "mean_absolute_error(y_test,y_pred_test)"
   ]
  },
  {
   "cell_type": "code",
   "execution_count": 137,
   "id": "85077c83",
   "metadata": {},
   "outputs": [
    {
     "data": {
      "text/plain": [
       "502706659.62294835"
      ]
     },
     "execution_count": 137,
     "metadata": {},
     "output_type": "execute_result"
    }
   ],
   "source": [
    "mean_squared_error(y_test,y_pred_test)"
   ]
  },
  {
   "cell_type": "code",
   "execution_count": 138,
   "id": "dc3ad984",
   "metadata": {},
   "outputs": [
    {
     "name": "stdout",
     "output_type": "stream",
     "text": [
      "                            OLS Regression Results                            \n",
      "==============================================================================\n",
      "Dep. Variable:                  Price   R-squared:                       0.785\n",
      "Model:                            OLS   Adj. R-squared:                  0.762\n",
      "Method:                 Least Squares   F-statistic:                     33.96\n",
      "Date:                Wed, 27 Sep 2023   Prob (F-statistic):           4.28e-88\n",
      "Time:                        14:15:38   Log-Likelihood:                -4195.7\n",
      "No. Observations:                 361   AIC:                             8463.\n",
      "Df Residuals:                     325   BIC:                             8603.\n",
      "Df Model:                          35                                         \n",
      "Covariance Type:            nonrobust                                         \n",
      "==========================================================================================\n",
      "                             coef    std err          t      P>|t|      [0.025      0.975]\n",
      "------------------------------------------------------------------------------------------\n",
      "RAM                     3910.9162    400.236      9.772      0.000    3123.536    4698.297\n",
      "TouchScreen            -1350.3921   1.74e+04     -0.077      0.938   -3.57e+04     3.3e+04\n",
      "Graphic Card            -904.5732   7006.648     -0.129      0.897   -1.47e+04    1.29e+04\n",
      "KGs                     1.186e+04   7066.060      1.678      0.094   -2040.958    2.58e+04\n",
      "ppi                      332.0758     74.576      4.453      0.000     185.363     478.789\n",
      "HDD                       18.5277      7.706      2.404      0.017       3.367      33.688\n",
      "SSD                       72.6599      6.946     10.460      0.000      58.995      86.325\n",
      "EMMC STORAGE             -17.6197    312.897     -0.056      0.955    -633.180     597.940\n",
      "APPLE                  -2205.6727   6828.718     -0.323      0.747   -1.56e+04    1.12e+04\n",
      "ASUS                   -6212.6732   5141.255     -1.208      0.228   -1.63e+04    3901.667\n",
      "Acer                   -9212.9716   6523.966     -1.412      0.159    -2.2e+04    3621.561\n",
      "CHUWI                  -3.613e+04   1.92e+04     -1.886      0.060   -7.38e+04    1552.433\n",
      "DELL                    4502.1088   5884.617      0.765      0.445   -7074.639    1.61e+04\n",
      "GIGABYTE               -5886.2077   1.99e+04     -0.295      0.768   -4.51e+04    3.33e+04\n",
      "HP                     -6316.9596   5079.072     -1.244      0.214   -1.63e+04    3675.048\n",
      "Infinix                -3.359e+04   8423.970     -3.987      0.000   -5.02e+04    -1.7e+04\n",
      "Lenovo                 -3686.8435   5773.361     -0.639      0.524    -1.5e+04    7671.033\n",
      "MSI                    -1.526e+04   6243.264     -2.445      0.015   -2.75e+04   -2980.319\n",
      "Mi                     -9859.6296   2.66e+04     -0.371      0.711   -6.22e+04    4.24e+04\n",
      "Primebook               5506.7997   1.79e+04      0.308      0.758   -2.96e+04    4.06e+04\n",
      "SAMSUNG                 1.761e+04   1.17e+04      1.501      0.134   -5477.400    4.07e+04\n",
      "realme                 -2.685e-12   1.47e-11     -0.182      0.855   -3.17e-11    2.63e-11\n",
      "2 in 1 gaming laptop    8678.3663   9224.511      0.941      0.348   -9468.923    2.68e+04\n",
      "2 in 1 laptop          -9730.7407   9578.893     -1.016      0.310   -2.86e+04    9113.721\n",
      "Gaming Laptop          -9582.9395   7005.254     -1.368      0.172   -2.34e+04    4198.427\n",
      "business laptop        -3.738e+04   1.15e+04     -3.238      0.001   -6.01e+04   -1.47e+04\n",
      "chromebook             -9608.5037   2.27e+04     -0.423      0.673   -5.43e+04    3.51e+04\n",
      "laptop                 -2.222e+04   6917.091     -3.213      0.001   -3.58e+04   -8614.542\n",
      "notebook                -2.09e+04   9809.982     -2.131      0.034   -4.02e+04   -1602.631\n",
      "AMD Ryzen 5 Hexa Core  -2.126e+04   5426.983     -3.918      0.000   -3.19e+04   -1.06e+04\n",
      "AMD Ryzen 7 Octa Core  -2.268e+04   6043.049     -3.753      0.000   -3.46e+04   -1.08e+04\n",
      "Apple Processor        -2205.6727   6828.718     -0.323      0.747   -1.56e+04    1.12e+04\n",
      "Intel Core i3 11th Gen -1.197e+04   5722.275     -2.093      0.037   -2.32e+04    -717.232\n",
      "Intel Core i3 12th Gen -1.502e+04   7232.905     -2.076      0.039   -2.92e+04    -789.734\n",
      "Intel Core i5 11th Gen  -1.64e+04   5309.245     -3.089      0.002   -2.68e+04   -5955.888\n",
      "Intel Core i5 12th Gen -9937.1053   4880.360     -2.036      0.043   -1.95e+04    -336.022\n",
      "Intel Core i5 13th Gen -1.412e+04   6792.656     -2.079      0.038   -2.75e+04    -756.447\n",
      "Intel Core i7 12th Gen  1.262e+04   7168.760      1.761      0.079   -1479.572    2.67e+04\n",
      "Mediatek Processor      5506.7997   1.79e+04      0.308      0.758   -2.96e+04    4.06e+04\n",
      "Other AMD Processor     -1.01e+04   5125.916     -1.970      0.050   -2.02e+04     -13.914\n",
      "Other Intel Processor   4821.4639   4227.331      1.141      0.255   -3494.923    1.31e+04\n",
      "MAC                    -2205.6727   6828.718     -0.323      0.747   -1.56e+04    1.12e+04\n",
      "Other                  -4.554e+04   1.22e+04     -3.739      0.000   -6.95e+04   -2.16e+04\n",
      "Windows                  -5.3e+04   1.15e+04     -4.627      0.000   -7.55e+04   -3.05e+04\n",
      "==============================================================================\n",
      "Omnibus:                      208.974   Durbin-Watson:                   2.144\n",
      "Prob(Omnibus):                  0.000   Jarque-Bera (JB):             2531.977\n",
      "Skew:                           2.176   Prob(JB):                         0.00\n",
      "Kurtosis:                      15.223   Cond. No.                     1.09e+16\n",
      "==============================================================================\n",
      "\n",
      "Notes:\n",
      "[1] Standard Errors assume that the covariance matrix of the errors is correctly specified.\n",
      "[2] The smallest eigenvalue is 1.29e-24. This might indicate that there are\n",
      "strong multicollinearity problems or that the design matrix is singular.\n"
     ]
    }
   ],
   "source": [
    "import statsmodels.api as sm\n",
    "model1=sm.OLS(y_train,x_train)\n",
    "result=model1.fit()\n",
    "print(result.summary())"
   ]
  },
  {
   "cell_type": "code",
   "execution_count": 139,
   "id": "2f8674a2",
   "metadata": {},
   "outputs": [],
   "source": [
    "# After log transformation of 'PRICE"
   ]
  },
  {
   "cell_type": "code",
   "execution_count": 140,
   "id": "d2cf9bfe",
   "metadata": {},
   "outputs": [],
   "source": [
    "#Independent variables\n",
    "x=merged_df.drop(columns=['Price'])\n",
    "\n",
    "\n",
    "#Dependent variable\n",
    "y1=np.log(merged_df['Price'])\n"
   ]
  },
  {
   "cell_type": "code",
   "execution_count": 141,
   "id": "8ed818ac",
   "metadata": {},
   "outputs": [
    {
     "data": {
      "text/plain": [
       "0      10.462818\n",
       "2      10.490996\n",
       "3      10.788288\n",
       "4      10.571060\n",
       "5      10.542179\n",
       "         ...    \n",
       "963    10.914907\n",
       "965    11.944643\n",
       "978    10.584056\n",
       "979    11.686879\n",
       "983    11.735989\n",
       "Name: Price, Length: 482, dtype: float64"
      ]
     },
     "execution_count": 141,
     "metadata": {},
     "output_type": "execute_result"
    }
   ],
   "source": [
    "y1"
   ]
  },
  {
   "cell_type": "code",
   "execution_count": 142,
   "id": "ddcb7f08",
   "metadata": {},
   "outputs": [],
   "source": [
    "#Splitting of data\n",
    "x_train,x_test,y_train,y_test=train_test_split(x,y1,test_size=0.25,random_state=3)"
   ]
  },
  {
   "cell_type": "code",
   "execution_count": 143,
   "id": "f9147bd4",
   "metadata": {},
   "outputs": [
    {
     "data": {
      "text/html": [
       "<style>#sk-container-id-3 {color: black;background-color: white;}#sk-container-id-3 pre{padding: 0;}#sk-container-id-3 div.sk-toggleable {background-color: white;}#sk-container-id-3 label.sk-toggleable__label {cursor: pointer;display: block;width: 100%;margin-bottom: 0;padding: 0.3em;box-sizing: border-box;text-align: center;}#sk-container-id-3 label.sk-toggleable__label-arrow:before {content: \"▸\";float: left;margin-right: 0.25em;color: #696969;}#sk-container-id-3 label.sk-toggleable__label-arrow:hover:before {color: black;}#sk-container-id-3 div.sk-estimator:hover label.sk-toggleable__label-arrow:before {color: black;}#sk-container-id-3 div.sk-toggleable__content {max-height: 0;max-width: 0;overflow: hidden;text-align: left;background-color: #f0f8ff;}#sk-container-id-3 div.sk-toggleable__content pre {margin: 0.2em;color: black;border-radius: 0.25em;background-color: #f0f8ff;}#sk-container-id-3 input.sk-toggleable__control:checked~div.sk-toggleable__content {max-height: 200px;max-width: 100%;overflow: auto;}#sk-container-id-3 input.sk-toggleable__control:checked~label.sk-toggleable__label-arrow:before {content: \"▾\";}#sk-container-id-3 div.sk-estimator input.sk-toggleable__control:checked~label.sk-toggleable__label {background-color: #d4ebff;}#sk-container-id-3 div.sk-label input.sk-toggleable__control:checked~label.sk-toggleable__label {background-color: #d4ebff;}#sk-container-id-3 input.sk-hidden--visually {border: 0;clip: rect(1px 1px 1px 1px);clip: rect(1px, 1px, 1px, 1px);height: 1px;margin: -1px;overflow: hidden;padding: 0;position: absolute;width: 1px;}#sk-container-id-3 div.sk-estimator {font-family: monospace;background-color: #f0f8ff;border: 1px dotted black;border-radius: 0.25em;box-sizing: border-box;margin-bottom: 0.5em;}#sk-container-id-3 div.sk-estimator:hover {background-color: #d4ebff;}#sk-container-id-3 div.sk-parallel-item::after {content: \"\";width: 100%;border-bottom: 1px solid gray;flex-grow: 1;}#sk-container-id-3 div.sk-label:hover label.sk-toggleable__label {background-color: #d4ebff;}#sk-container-id-3 div.sk-serial::before {content: \"\";position: absolute;border-left: 1px solid gray;box-sizing: border-box;top: 0;bottom: 0;left: 50%;z-index: 0;}#sk-container-id-3 div.sk-serial {display: flex;flex-direction: column;align-items: center;background-color: white;padding-right: 0.2em;padding-left: 0.2em;position: relative;}#sk-container-id-3 div.sk-item {position: relative;z-index: 1;}#sk-container-id-3 div.sk-parallel {display: flex;align-items: stretch;justify-content: center;background-color: white;position: relative;}#sk-container-id-3 div.sk-item::before, #sk-container-id-3 div.sk-parallel-item::before {content: \"\";position: absolute;border-left: 1px solid gray;box-sizing: border-box;top: 0;bottom: 0;left: 50%;z-index: -1;}#sk-container-id-3 div.sk-parallel-item {display: flex;flex-direction: column;z-index: 1;position: relative;background-color: white;}#sk-container-id-3 div.sk-parallel-item:first-child::after {align-self: flex-end;width: 50%;}#sk-container-id-3 div.sk-parallel-item:last-child::after {align-self: flex-start;width: 50%;}#sk-container-id-3 div.sk-parallel-item:only-child::after {width: 0;}#sk-container-id-3 div.sk-dashed-wrapped {border: 1px dashed gray;margin: 0 0.4em 0.5em 0.4em;box-sizing: border-box;padding-bottom: 0.4em;background-color: white;}#sk-container-id-3 div.sk-label label {font-family: monospace;font-weight: bold;display: inline-block;line-height: 1.2em;}#sk-container-id-3 div.sk-label-container {text-align: center;}#sk-container-id-3 div.sk-container {/* jupyter's `normalize.less` sets `[hidden] { display: none; }` but bootstrap.min.css set `[hidden] { display: none !important; }` so we also need the `!important` here to be able to override the default hidden behavior on the sphinx rendered scikit-learn.org. See: https://github.com/scikit-learn/scikit-learn/issues/21755 */display: inline-block !important;position: relative;}#sk-container-id-3 div.sk-text-repr-fallback {display: none;}</style><div id=\"sk-container-id-3\" class=\"sk-top-container\"><div class=\"sk-text-repr-fallback\"><pre>LinearRegression()</pre><b>In a Jupyter environment, please rerun this cell to show the HTML representation or trust the notebook. <br />On GitHub, the HTML representation is unable to render, please try loading this page with nbviewer.org.</b></div><div class=\"sk-container\" hidden><div class=\"sk-item\"><div class=\"sk-estimator sk-toggleable\"><input class=\"sk-toggleable__control sk-hidden--visually\" id=\"sk-estimator-id-3\" type=\"checkbox\" checked><label for=\"sk-estimator-id-3\" class=\"sk-toggleable__label sk-toggleable__label-arrow\">LinearRegression</label><div class=\"sk-toggleable__content\"><pre>LinearRegression()</pre></div></div></div></div></div>"
      ],
      "text/plain": [
       "LinearRegression()"
      ]
     },
     "execution_count": 143,
     "metadata": {},
     "output_type": "execute_result"
    }
   ],
   "source": [
    "reg.fit(x_train,y_train)"
   ]
  },
  {
   "cell_type": "code",
   "execution_count": 144,
   "id": "37d9df88",
   "metadata": {},
   "outputs": [],
   "source": [
    "y_pred_train=reg.predict(x_train)"
   ]
  },
  {
   "cell_type": "code",
   "execution_count": 145,
   "id": "5df8b0e2",
   "metadata": {},
   "outputs": [
    {
     "data": {
      "text/plain": [
       "0.8715137181233288"
      ]
     },
     "execution_count": 145,
     "metadata": {},
     "output_type": "execute_result"
    }
   ],
   "source": [
    "r2_score(y_train,y_pred_train)"
   ]
  },
  {
   "cell_type": "code",
   "execution_count": 146,
   "id": "9d977b69",
   "metadata": {},
   "outputs": [],
   "source": [
    "y_pred_test=reg.predict(x_test)"
   ]
  },
  {
   "cell_type": "code",
   "execution_count": 147,
   "id": "3b8e1e73",
   "metadata": {},
   "outputs": [
    {
     "data": {
      "text/plain": [
       "0.827986958810472"
      ]
     },
     "execution_count": 147,
     "metadata": {},
     "output_type": "execute_result"
    }
   ],
   "source": [
    "r2_score(y_test,y_pred_test)"
   ]
  },
  {
   "cell_type": "code",
   "execution_count": null,
   "id": "b6a57896",
   "metadata": {},
   "outputs": [],
   "source": []
  }
 ],
 "metadata": {
  "kernelspec": {
   "display_name": "Python 3 (ipykernel)",
   "language": "python",
   "name": "python3"
  },
  "language_info": {
   "codemirror_mode": {
    "name": "ipython",
    "version": 3
   },
   "file_extension": ".py",
   "mimetype": "text/x-python",
   "name": "python",
   "nbconvert_exporter": "python",
   "pygments_lexer": "ipython3",
   "version": "3.10.9"
  }
 },
 "nbformat": 4,
 "nbformat_minor": 5
}
